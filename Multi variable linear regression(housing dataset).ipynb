{
 "cells": [
  {
   "cell_type": "code",
   "execution_count": 1,
   "id": "21592d5a",
   "metadata": {},
   "outputs": [
    {
     "data": {
      "text/html": [
       "<div>\n",
       "<style scoped>\n",
       "    .dataframe tbody tr th:only-of-type {\n",
       "        vertical-align: middle;\n",
       "    }\n",
       "\n",
       "    .dataframe tbody tr th {\n",
       "        vertical-align: top;\n",
       "    }\n",
       "\n",
       "    .dataframe thead th {\n",
       "        text-align: right;\n",
       "    }\n",
       "</style>\n",
       "<table border=\"1\" class=\"dataframe\">\n",
       "  <thead>\n",
       "    <tr style=\"text-align: right;\">\n",
       "      <th></th>\n",
       "      <th>CRIM</th>\n",
       "      <th>ZN</th>\n",
       "      <th>INDUS</th>\n",
       "      <th>CHAS</th>\n",
       "      <th>NOX</th>\n",
       "      <th>RM</th>\n",
       "      <th>AGE</th>\n",
       "      <th>DIS</th>\n",
       "      <th>RAD</th>\n",
       "      <th>TAX</th>\n",
       "      <th>PTRATIO</th>\n",
       "      <th>MEDV</th>\n",
       "      <th>B</th>\n",
       "      <th>LSTAT</th>\n",
       "    </tr>\n",
       "  </thead>\n",
       "  <tbody>\n",
       "    <tr>\n",
       "      <th>0</th>\n",
       "      <td>0.00632</td>\n",
       "      <td>0.00632</td>\n",
       "      <td>0.00632</td>\n",
       "      <td>0.00632</td>\n",
       "      <td>0.00632</td>\n",
       "      <td>0.00632</td>\n",
       "      <td>0.00632</td>\n",
       "      <td>0.00632</td>\n",
       "      <td>0.00632</td>\n",
       "      <td>0.00632</td>\n",
       "      <td>0.00632</td>\n",
       "      <td>0.00632</td>\n",
       "      <td>0.00632</td>\n",
       "      <td>0.00632</td>\n",
       "    </tr>\n",
       "    <tr>\n",
       "      <th>1</th>\n",
       "      <td>0.02731</td>\n",
       "      <td>0.00000</td>\n",
       "      <td>7.07000</td>\n",
       "      <td>0.00000</td>\n",
       "      <td>0.46900</td>\n",
       "      <td>6.42100</td>\n",
       "      <td>78.90000</td>\n",
       "      <td>4.96710</td>\n",
       "      <td>2.00000</td>\n",
       "      <td>242.00000</td>\n",
       "      <td>17.80000</td>\n",
       "      <td>396.90000</td>\n",
       "      <td>9.14000</td>\n",
       "      <td>21.60000</td>\n",
       "    </tr>\n",
       "    <tr>\n",
       "      <th>2</th>\n",
       "      <td>0.02729</td>\n",
       "      <td>0.00000</td>\n",
       "      <td>7.07000</td>\n",
       "      <td>0.00000</td>\n",
       "      <td>0.46900</td>\n",
       "      <td>7.18500</td>\n",
       "      <td>61.10000</td>\n",
       "      <td>4.96710</td>\n",
       "      <td>2.00000</td>\n",
       "      <td>242.00000</td>\n",
       "      <td>17.80000</td>\n",
       "      <td>392.83000</td>\n",
       "      <td>4.03000</td>\n",
       "      <td>34.70000</td>\n",
       "    </tr>\n",
       "    <tr>\n",
       "      <th>3</th>\n",
       "      <td>0.03237</td>\n",
       "      <td>0.00000</td>\n",
       "      <td>2.18000</td>\n",
       "      <td>0.00000</td>\n",
       "      <td>0.45800</td>\n",
       "      <td>6.99800</td>\n",
       "      <td>45.80000</td>\n",
       "      <td>6.06220</td>\n",
       "      <td>3.00000</td>\n",
       "      <td>222.00000</td>\n",
       "      <td>18.70000</td>\n",
       "      <td>394.63000</td>\n",
       "      <td>2.94000</td>\n",
       "      <td>33.40000</td>\n",
       "    </tr>\n",
       "    <tr>\n",
       "      <th>4</th>\n",
       "      <td>0.06905</td>\n",
       "      <td>0.00000</td>\n",
       "      <td>2.18000</td>\n",
       "      <td>0.00000</td>\n",
       "      <td>0.45800</td>\n",
       "      <td>7.14700</td>\n",
       "      <td>54.20000</td>\n",
       "      <td>6.06220</td>\n",
       "      <td>3.00000</td>\n",
       "      <td>222.00000</td>\n",
       "      <td>18.70000</td>\n",
       "      <td>396.90000</td>\n",
       "      <td>5.33000</td>\n",
       "      <td>36.20000</td>\n",
       "    </tr>\n",
       "    <tr>\n",
       "      <th>...</th>\n",
       "      <td>...</td>\n",
       "      <td>...</td>\n",
       "      <td>...</td>\n",
       "      <td>...</td>\n",
       "      <td>...</td>\n",
       "      <td>...</td>\n",
       "      <td>...</td>\n",
       "      <td>...</td>\n",
       "      <td>...</td>\n",
       "      <td>...</td>\n",
       "      <td>...</td>\n",
       "      <td>...</td>\n",
       "      <td>...</td>\n",
       "      <td>...</td>\n",
       "    </tr>\n",
       "    <tr>\n",
       "      <th>501</th>\n",
       "      <td>0.06263</td>\n",
       "      <td>0.00000</td>\n",
       "      <td>11.93000</td>\n",
       "      <td>0.00000</td>\n",
       "      <td>0.57300</td>\n",
       "      <td>6.59300</td>\n",
       "      <td>69.10000</td>\n",
       "      <td>2.47860</td>\n",
       "      <td>1.00000</td>\n",
       "      <td>273.00000</td>\n",
       "      <td>21.00000</td>\n",
       "      <td>391.99000</td>\n",
       "      <td>9.67000</td>\n",
       "      <td>22.40000</td>\n",
       "    </tr>\n",
       "    <tr>\n",
       "      <th>502</th>\n",
       "      <td>0.04527</td>\n",
       "      <td>0.00000</td>\n",
       "      <td>11.93000</td>\n",
       "      <td>0.00000</td>\n",
       "      <td>0.57300</td>\n",
       "      <td>6.12000</td>\n",
       "      <td>76.70000</td>\n",
       "      <td>2.28750</td>\n",
       "      <td>1.00000</td>\n",
       "      <td>273.00000</td>\n",
       "      <td>21.00000</td>\n",
       "      <td>396.90000</td>\n",
       "      <td>9.08000</td>\n",
       "      <td>20.60000</td>\n",
       "    </tr>\n",
       "    <tr>\n",
       "      <th>503</th>\n",
       "      <td>0.06076</td>\n",
       "      <td>0.00000</td>\n",
       "      <td>11.93000</td>\n",
       "      <td>0.00000</td>\n",
       "      <td>0.57300</td>\n",
       "      <td>6.97600</td>\n",
       "      <td>91.00000</td>\n",
       "      <td>2.16750</td>\n",
       "      <td>1.00000</td>\n",
       "      <td>273.00000</td>\n",
       "      <td>21.00000</td>\n",
       "      <td>396.90000</td>\n",
       "      <td>5.64000</td>\n",
       "      <td>23.90000</td>\n",
       "    </tr>\n",
       "    <tr>\n",
       "      <th>504</th>\n",
       "      <td>0.10959</td>\n",
       "      <td>0.00000</td>\n",
       "      <td>11.93000</td>\n",
       "      <td>0.00000</td>\n",
       "      <td>0.57300</td>\n",
       "      <td>6.79400</td>\n",
       "      <td>89.30000</td>\n",
       "      <td>2.38890</td>\n",
       "      <td>1.00000</td>\n",
       "      <td>273.00000</td>\n",
       "      <td>21.00000</td>\n",
       "      <td>393.45000</td>\n",
       "      <td>6.48000</td>\n",
       "      <td>22.00000</td>\n",
       "    </tr>\n",
       "    <tr>\n",
       "      <th>505</th>\n",
       "      <td>0.04741</td>\n",
       "      <td>0.00000</td>\n",
       "      <td>11.93000</td>\n",
       "      <td>0.00000</td>\n",
       "      <td>0.57300</td>\n",
       "      <td>6.03000</td>\n",
       "      <td>80.80000</td>\n",
       "      <td>2.50500</td>\n",
       "      <td>1.00000</td>\n",
       "      <td>273.00000</td>\n",
       "      <td>21.00000</td>\n",
       "      <td>396.90000</td>\n",
       "      <td>7.88000</td>\n",
       "      <td>11.90000</td>\n",
       "    </tr>\n",
       "  </tbody>\n",
       "</table>\n",
       "<p>506 rows × 14 columns</p>\n",
       "</div>"
      ],
      "text/plain": [
       "        CRIM       ZN     INDUS     CHAS      NOX       RM       AGE      DIS  \\\n",
       "0    0.00632  0.00632   0.00632  0.00632  0.00632  0.00632   0.00632  0.00632   \n",
       "1    0.02731  0.00000   7.07000  0.00000  0.46900  6.42100  78.90000  4.96710   \n",
       "2    0.02729  0.00000   7.07000  0.00000  0.46900  7.18500  61.10000  4.96710   \n",
       "3    0.03237  0.00000   2.18000  0.00000  0.45800  6.99800  45.80000  6.06220   \n",
       "4    0.06905  0.00000   2.18000  0.00000  0.45800  7.14700  54.20000  6.06220   \n",
       "..       ...      ...       ...      ...      ...      ...       ...      ...   \n",
       "501  0.06263  0.00000  11.93000  0.00000  0.57300  6.59300  69.10000  2.47860   \n",
       "502  0.04527  0.00000  11.93000  0.00000  0.57300  6.12000  76.70000  2.28750   \n",
       "503  0.06076  0.00000  11.93000  0.00000  0.57300  6.97600  91.00000  2.16750   \n",
       "504  0.10959  0.00000  11.93000  0.00000  0.57300  6.79400  89.30000  2.38890   \n",
       "505  0.04741  0.00000  11.93000  0.00000  0.57300  6.03000  80.80000  2.50500   \n",
       "\n",
       "         RAD        TAX   PTRATIO       MEDV        B     LSTAT  \n",
       "0    0.00632    0.00632   0.00632    0.00632  0.00632   0.00632  \n",
       "1    2.00000  242.00000  17.80000  396.90000  9.14000  21.60000  \n",
       "2    2.00000  242.00000  17.80000  392.83000  4.03000  34.70000  \n",
       "3    3.00000  222.00000  18.70000  394.63000  2.94000  33.40000  \n",
       "4    3.00000  222.00000  18.70000  396.90000  5.33000  36.20000  \n",
       "..       ...        ...       ...        ...      ...       ...  \n",
       "501  1.00000  273.00000  21.00000  391.99000  9.67000  22.40000  \n",
       "502  1.00000  273.00000  21.00000  396.90000  9.08000  20.60000  \n",
       "503  1.00000  273.00000  21.00000  396.90000  5.64000  23.90000  \n",
       "504  1.00000  273.00000  21.00000  393.45000  6.48000  22.00000  \n",
       "505  1.00000  273.00000  21.00000  396.90000  7.88000  11.90000  \n",
       "\n",
       "[506 rows x 14 columns]"
      ]
     },
     "execution_count": 1,
     "metadata": {},
     "output_type": "execute_result"
    }
   ],
   "source": [
    "import pandas as pd\n",
    "import numpy as np\n",
    "import matplotlib.pyplot as plt\n",
    "df=pd.read_csv(\"./CSV/housing.csv\")\n",
    "df"
   ]
  },
  {
   "cell_type": "code",
   "execution_count": 2,
   "id": "d0f1f8a1",
   "metadata": {},
   "outputs": [
    {
     "data": {
      "text/plain": [
       "<matplotlib.collections.PathCollection at 0x1aa929bc6a0>"
      ]
     },
     "execution_count": 2,
     "metadata": {},
     "output_type": "execute_result"
    },
    {
     "data": {
      "image/png": "[encoded data removed]",
      "text/plain": [
       "<Figure size 432x288 with 1 Axes>"
      ]
     },
     "metadata": {
      "needs_background": "light"
     },
     "output_type": "display_data"
    }
   ],
   "source": [
    "plt.scatter(df.CRIM,df.LSTAT)"
   ]
  },
  {
   "cell_type": "code",
   "execution_count": 3,
   "id": "e3db120a",
   "metadata": {},
   "outputs": [
    {
     "data": {
      "text/plain": [
       "<matplotlib.collections.PathCollection at 0x1aa93161d90>"
      ]
     },
     "execution_count": 3,
     "metadata": {},
     "output_type": "execute_result"
    },
    {
     "data": {
      "image/png": "[encoded data removed]",
      "text/plain": [
       "<Figure size 432x288 with 1 Axes>"
      ]
     },
     "metadata": {
      "needs_background": "light"
     },
     "output_type": "display_data"
    }
   ],
   "source": [
    "plt.scatter(df.ZN,df.LSTAT)"
   ]
  },
  {
   "cell_type": "code",
   "execution_count": 4,
   "id": "da1b5915",
   "metadata": {},
   "outputs": [
    {
     "data": {
      "text/plain": [
       "<matplotlib.collections.PathCollection at 0x1aa931d0cd0>"
      ]
     },
     "execution_count": 4,
     "metadata": {},
     "output_type": "execute_result"
    },
    {
     "data": {
      "image/png": "[encoded data removed]",
      "text/plain": [
       "<Figure size 432x288 with 1 Axes>"
      ]
     },
     "metadata": {
      "needs_background": "light"
     },
     "output_type": "display_data"
    }
   ],
   "source": [
    "plt.scatter(df.INDUS,df.LSTAT)"
   ]
  },
  {
   "cell_type": "code",
   "execution_count": 5,
   "id": "3cf2b45f",
   "metadata": {},
   "outputs": [
    {
     "data": {
      "text/plain": [
       "<matplotlib.collections.PathCollection at 0x1aa9323b670>"
      ]
     },
     "execution_count": 5,
     "metadata": {},
     "output_type": "execute_result"
    },
    {
     "data": {
      "image/png": "[encoded data removed]",
      "text/plain": [
       "<Figure size 432x288 with 1 Axes>"
      ]
     },
     "metadata": {
      "needs_background": "light"
     },
     "output_type": "display_data"
    }
   ],
   "source": [
    "plt.scatter(df.INDUS,df.LSTAT)"
   ]
  },
  {
   "cell_type": "code",
   "execution_count": 6,
   "id": "635cdae9",
   "metadata": {},
   "outputs": [
    {
     "data": {
      "text/plain": [
       "<matplotlib.collections.PathCollection at 0x1aa9426ae80>"
      ]
     },
     "execution_count": 6,
     "metadata": {},
     "output_type": "execute_result"
    },
    {
     "data": {
      "image/png": "[encoded data removed]",
      "text/plain": [
       "<Figure size 432x288 with 1 Axes>"
      ]
     },
     "metadata": {
      "needs_background": "light"
     },
     "output_type": "display_data"
    }
   ],
   "source": [
    "plt.scatter(df.NOX,df.LSTAT)"
   ]
  },
  {
   "cell_type": "code",
   "execution_count": 7,
   "id": "224b52c7",
   "metadata": {},
   "outputs": [
    {
     "data": {
      "text/plain": [
       "<matplotlib.collections.PathCollection at 0x1aa942cbf70>"
      ]
     },
     "execution_count": 7,
     "metadata": {},
     "output_type": "execute_result"
    },
    {
     "data": {
      "image/png": "[encoded data removed]",
      "text/plain": [
       "<Figure size 432x288 with 1 Axes>"
      ]
     },
     "metadata": {
      "needs_background": "light"
     },
     "output_type": "display_data"
    }
   ],
   "source": [
    "plt.scatter(df.RM,df.LSTAT)"
   ]
  },
  {
   "cell_type": "code",
   "execution_count": 8,
   "id": "1872ec3d",
   "metadata": {},
   "outputs": [
    {
     "data": {
      "text/plain": [
       "<matplotlib.collections.PathCollection at 0x1aa9433e220>"
      ]
     },
     "execution_count": 8,
     "metadata": {},
     "output_type": "execute_result"
    },
    {
     "data": {
      "image/png": "[encoded data removed]",
      "text/plain": [
       "<Figure size 432x288 with 1 Axes>"
      ]
     },
     "metadata": {
      "needs_background": "light"
     },
     "output_type": "display_data"
    }
   ],
   "source": [
    "plt.scatter(df.AGE,df.LSTAT)"
   ]
  },
  {
   "cell_type": "code",
   "execution_count": 9,
   "id": "f766c358",
   "metadata": {},
   "outputs": [
    {
     "data": {
      "text/plain": [
       "<matplotlib.collections.PathCollection at 0x1aa943999d0>"
      ]
     },
     "execution_count": 9,
     "metadata": {},
     "output_type": "execute_result"
    },
    {
     "data": {
      "image/png": "[encoded data removed]",
      "text/plain": [
       "<Figure size 432x288 with 1 Axes>"
      ]
     },
     "metadata": {
      "needs_background": "light"
     },
     "output_type": "display_data"
    }
   ],
   "source": [
    "plt.scatter(df.DIS,df.LSTAT)"
   ]
  },
  {
   "cell_type": "code",
   "execution_count": 10,
   "id": "9d36f96e",
   "metadata": {},
   "outputs": [
    {
     "data": {
      "text/plain": [
       "<matplotlib.collections.PathCollection at 0x1aa94403550>"
      ]
     },
     "execution_count": 10,
     "metadata": {},
     "output_type": "execute_result"
    },
    {
     "data": {
      "image/png": "[encoded data removed]",
      "text/plain": [
       "<Figure size 432x288 with 1 Axes>"
      ]
     },
     "metadata": {
      "needs_background": "light"
     },
     "output_type": "display_data"
    }
   ],
   "source": [
    "plt.scatter(df.RAD,df.LSTAT)"
   ]
  },
  {
   "cell_type": "code",
   "execution_count": 11,
   "id": "26705898",
   "metadata": {},
   "outputs": [
    {
     "data": {
      "text/plain": [
       "<matplotlib.collections.PathCollection at 0x1aa9442f9d0>"
      ]
     },
     "execution_count": 11,
     "metadata": {},
     "output_type": "execute_result"
    },
    {
     "data": {
      "image/png": "[encoded data removed]",
      "text/plain": [
       "<Figure size 432x288 with 1 Axes>"
      ]
     },
     "metadata": {
      "needs_background": "light"
     },
     "output_type": "display_data"
    }
   ],
   "source": [
    "plt.scatter(df.TAX,df.LSTAT)"
   ]
  },
  {
   "cell_type": "code",
   "execution_count": 12,
   "id": "684c8a97",
   "metadata": {},
   "outputs": [
    {
     "data": {
      "text/plain": [
       "<matplotlib.collections.PathCollection at 0x1aa9443bbe0>"
      ]
     },
     "execution_count": 12,
     "metadata": {},
     "output_type": "execute_result"
    },
    {
     "data": {
      "image/png": "[encoded data removed]",
      "text/plain": [
       "<Figure size 432x288 with 1 Axes>"
      ]
     },
     "metadata": {
      "needs_background": "light"
     },
     "output_type": "display_data"
    }
   ],
   "source": [
    "plt.scatter(df.PTRATIO,df.LSTAT)"
   ]
  },
  {
   "cell_type": "code",
   "execution_count": 13,
   "id": "15391287",
   "metadata": {},
   "outputs": [
    {
     "data": {
      "text/plain": [
       "<matplotlib.collections.PathCollection at 0x1aa9452bfd0>"
      ]
     },
     "execution_count": 13,
     "metadata": {},
     "output_type": "execute_result"
    },
    {
     "data": {
      "image/png": "[encoded data removed]",
      "text/plain": [
       "<Figure size 432x288 with 1 Axes>"
      ]
     },
     "metadata": {
      "needs_background": "light"
     },
     "output_type": "display_data"
    }
   ],
   "source": [
    "plt.scatter(df.MEDV,df.LSTAT)"
   ]
  },
  {
   "cell_type": "code",
   "execution_count": 14,
   "id": "e62c8e44",
   "metadata": {},
   "outputs": [
    {
     "data": {
      "text/plain": [
       "<matplotlib.collections.PathCollection at 0x1aa9459d9a0>"
      ]
     },
     "execution_count": 14,
     "metadata": {},
     "output_type": "execute_result"
    },
    {
     "data": {
      "image/png": "[encoded data removed]",
      "text/plain": [
       "<Figure size 432x288 with 1 Axes>"
      ]
     },
     "metadata": {
      "needs_background": "light"
     },
     "output_type": "display_data"
    }
   ],
   "source": [
    "plt.scatter(df.B,df.LSTAT)"
   ]
  },
  {
   "cell_type": "code",
   "execution_count": 15,
   "id": "c5366e48",
   "metadata": {},
   "outputs": [
    {
     "data": {
      "text/html": [
       "<div>\n",
       "<style scoped>\n",
       "    .dataframe tbody tr th:only-of-type {\n",
       "        vertical-align: middle;\n",
       "    }\n",
       "\n",
       "    .dataframe tbody tr th {\n",
       "        vertical-align: top;\n",
       "    }\n",
       "\n",
       "    .dataframe thead th {\n",
       "        text-align: right;\n",
       "    }\n",
       "</style>\n",
       "<table border=\"1\" class=\"dataframe\">\n",
       "  <thead>\n",
       "    <tr style=\"text-align: right;\">\n",
       "      <th></th>\n",
       "      <th>CRIM</th>\n",
       "      <th>ZN</th>\n",
       "      <th>RM</th>\n",
       "    </tr>\n",
       "  </thead>\n",
       "  <tbody>\n",
       "    <tr>\n",
       "      <th>0</th>\n",
       "      <td>0.00632</td>\n",
       "      <td>0.00632</td>\n",
       "      <td>0.00632</td>\n",
       "    </tr>\n",
       "    <tr>\n",
       "      <th>1</th>\n",
       "      <td>0.02731</td>\n",
       "      <td>0.00000</td>\n",
       "      <td>6.42100</td>\n",
       "    </tr>\n",
       "    <tr>\n",
       "      <th>2</th>\n",
       "      <td>0.02729</td>\n",
       "      <td>0.00000</td>\n",
       "      <td>7.18500</td>\n",
       "    </tr>\n",
       "    <tr>\n",
       "      <th>3</th>\n",
       "      <td>0.03237</td>\n",
       "      <td>0.00000</td>\n",
       "      <td>6.99800</td>\n",
       "    </tr>\n",
       "    <tr>\n",
       "      <th>4</th>\n",
       "      <td>0.06905</td>\n",
       "      <td>0.00000</td>\n",
       "      <td>7.14700</td>\n",
       "    </tr>\n",
       "    <tr>\n",
       "      <th>...</th>\n",
       "      <td>...</td>\n",
       "      <td>...</td>\n",
       "      <td>...</td>\n",
       "    </tr>\n",
       "    <tr>\n",
       "      <th>501</th>\n",
       "      <td>0.06263</td>\n",
       "      <td>0.00000</td>\n",
       "      <td>6.59300</td>\n",
       "    </tr>\n",
       "    <tr>\n",
       "      <th>502</th>\n",
       "      <td>0.04527</td>\n",
       "      <td>0.00000</td>\n",
       "      <td>6.12000</td>\n",
       "    </tr>\n",
       "    <tr>\n",
       "      <th>503</th>\n",
       "      <td>0.06076</td>\n",
       "      <td>0.00000</td>\n",
       "      <td>6.97600</td>\n",
       "    </tr>\n",
       "    <tr>\n",
       "      <th>504</th>\n",
       "      <td>0.10959</td>\n",
       "      <td>0.00000</td>\n",
       "      <td>6.79400</td>\n",
       "    </tr>\n",
       "    <tr>\n",
       "      <th>505</th>\n",
       "      <td>0.04741</td>\n",
       "      <td>0.00000</td>\n",
       "      <td>6.03000</td>\n",
       "    </tr>\n",
       "  </tbody>\n",
       "</table>\n",
       "<p>506 rows × 3 columns</p>\n",
       "</div>"
      ],
      "text/plain": [
       "        CRIM       ZN       RM\n",
       "0    0.00632  0.00632  0.00632\n",
       "1    0.02731  0.00000  6.42100\n",
       "2    0.02729  0.00000  7.18500\n",
       "3    0.03237  0.00000  6.99800\n",
       "4    0.06905  0.00000  7.14700\n",
       "..       ...      ...      ...\n",
       "501  0.06263  0.00000  6.59300\n",
       "502  0.04527  0.00000  6.12000\n",
       "503  0.06076  0.00000  6.97600\n",
       "504  0.10959  0.00000  6.79400\n",
       "505  0.04741  0.00000  6.03000\n",
       "\n",
       "[506 rows x 3 columns]"
      ]
     },
     "execution_count": 15,
     "metadata": {},
     "output_type": "execute_result"
    }
   ],
   "source": [
    "dftest=df.drop(['INDUS','CHAS','NOX','AGE','RAD','TAX','PTRATIO','MEDV','B','DIS','LSTAT'],axis=1)\n",
    "dftest"
   ]
  },
  {
   "cell_type": "code",
   "execution_count": 16,
   "id": "0cb6a77a",
   "metadata": {},
   "outputs": [],
   "source": [
    "from sklearn import linear_model\n",
    "model=linear_model.LinearRegression()"
   ]
  },
  {
   "cell_type": "code",
   "execution_count": 17,
   "id": "1b2f3083",
   "metadata": {},
   "outputs": [
    {
     "data": {
      "text/plain": [
       "CRIM        0\n",
       "ZN          0\n",
       "INDUS       0\n",
       "CHAS        0\n",
       "NOX         0\n",
       "RM          0\n",
       "AGE         0\n",
       "DIS         0\n",
       "RAD         0\n",
       "TAX         0\n",
       "PTRATIO     0\n",
       "MEDV        0\n",
       "B           0\n",
       "LSTAT      54\n",
       "dtype: int64"
      ]
     },
     "execution_count": 17,
     "metadata": {},
     "output_type": "execute_result"
    }
   ],
   "source": [
    "df.isnull().sum()"
   ]
  },
  {
   "cell_type": "code",
   "execution_count": 18,
   "id": "fede4e0b",
   "metadata": {},
   "outputs": [
    {
     "data": {
      "text/plain": [
       "LinearRegression()"
      ]
     },
     "execution_count": 18,
     "metadata": {},
     "output_type": "execute_result"
    }
   ],
   "source": [
    "model.fit(dftest,df.CRIM)"
   ]
  },
  {
   "cell_type": "code",
   "execution_count": 19,
   "id": "ba20904e",
   "metadata": {},
   "outputs": [
    {
     "data": {
      "text/plain": [
       "0      0.00632\n",
       "1      0.02731\n",
       "2      0.02729\n",
       "3      0.03237\n",
       "4      0.06905\n",
       "        ...   \n",
       "501    0.06263\n",
       "502    0.04527\n",
       "503    0.06076\n",
       "504    0.10959\n",
       "505    0.04741\n",
       "Name: CRIM, Length: 506, dtype: float64"
      ]
     },
     "execution_count": 19,
     "metadata": {},
     "output_type": "execute_result"
    }
   ],
   "source": [
    "y_actual=df.CRIM\n",
    "y_actual"
   ]
  },
  {
   "cell_type": "code",
   "execution_count": 20,
   "id": "45b0efc6",
   "metadata": {},
   "outputs": [
    {
     "data": {
      "text/plain": [
       "array([6.32000000e-03, 2.73100000e-02, 2.72900000e-02, 3.23700000e-02,\n",
       "       6.90500000e-02, 2.98500000e-02, 8.82900000e-02, 1.44550000e-01,\n",
       "       2.11240000e-01, 1.70040000e-01, 2.24890000e-01, 1.17470000e-01,\n",
       "       9.37800000e-02, 6.29760000e-01, 6.37960000e-01, 6.27390000e-01,\n",
       "       1.05393000e+00, 7.84200000e-01, 8.02710000e-01, 7.25800000e-01,\n",
       "       1.25179000e+00, 8.52040000e-01, 1.23247000e+00, 9.88430000e-01,\n",
       "       7.50260000e-01, 8.40540000e-01, 6.71910000e-01, 9.55770000e-01,\n",
       "       7.72990000e-01, 1.00245000e+00, 1.13081000e+00, 1.35472000e+00,\n",
       "       1.38799000e+00, 1.15172000e+00, 1.61282000e+00, 6.41700000e-02,\n",
       "       9.74400000e-02, 8.01400000e-02, 1.75050000e-01, 2.76300000e-02,\n",
       "       3.35900000e-02, 1.27440000e-01, 1.41500000e-01, 1.59360000e-01,\n",
       "       1.22690000e-01, 1.71420000e-01, 1.88360000e-01, 2.29270000e-01,\n",
       "       2.53870000e-01, 2.19770000e-01, 8.87300000e-02, 4.33700000e-02,\n",
       "       5.36000000e-02, 4.98100000e-02, 1.36000000e-02, 1.31100000e-02,\n",
       "       2.05500000e-02, 1.43200000e-02, 1.54450000e-01, 1.03280000e-01,\n",
       "       1.49320000e-01, 1.71710000e-01, 1.10270000e-01, 1.26500000e-01,\n",
       "       1.95100000e-02, 3.58400000e-02, 4.37900000e-02, 5.78900000e-02,\n",
       "       1.35540000e-01, 1.28160000e-01, 8.82600000e-02, 1.58760000e-01,\n",
       "       9.16400000e-02, 1.95390000e-01, 7.89600000e-02, 9.51200000e-02,\n",
       "       1.01530000e-01, 8.70700000e-02, 5.64600000e-02, 8.38700000e-02,\n",
       "       4.11300000e-02, 4.46200000e-02, 3.65900000e-02, 3.55100000e-02,\n",
       "       5.05900000e-02, 5.73500000e-02, 5.18800000e-02, 7.15100000e-02,\n",
       "       5.66000000e-02, 5.30200000e-02, 4.68400000e-02, 3.93200000e-02,\n",
       "       4.20300000e-02, 2.87500000e-02, 4.29400000e-02, 1.22040000e-01,\n",
       "       1.15040000e-01, 1.20830000e-01, 8.18700000e-02, 6.86000000e-02,\n",
       "       1.48660000e-01, 1.14320000e-01, 2.28760000e-01, 2.11610000e-01,\n",
       "       1.39600000e-01, 1.32620000e-01, 1.71200000e-01, 1.31170000e-01,\n",
       "       1.28020000e-01, 2.63630000e-01, 1.07930000e-01, 1.00840000e-01,\n",
       "       1.23290000e-01, 2.22120000e-01, 1.42310000e-01, 1.71340000e-01,\n",
       "       1.31580000e-01, 1.50980000e-01, 1.30580000e-01, 1.44760000e-01,\n",
       "       6.89900000e-02, 7.16500000e-02, 9.29900000e-02, 1.50380000e-01,\n",
       "       9.84900000e-02, 1.69020000e-01, 3.87350000e-01, 2.59150000e-01,\n",
       "       3.25430000e-01, 8.81250000e-01, 3.40060000e-01, 1.19294000e+00,\n",
       "       5.90050000e-01, 3.29820000e-01, 9.76170000e-01, 5.57780000e-01,\n",
       "       3.22640000e-01, 3.52330000e-01, 2.49800000e-01, 5.44520000e-01,\n",
       "       2.90900000e-01, 1.62864000e+00, 3.32105000e+00, 4.09740000e+00,\n",
       "       2.77974000e+00, 2.37934000e+00, 2.15505000e+00, 2.36862000e+00,\n",
       "       2.33099000e+00, 2.73397000e+00, 1.65660000e+00, 1.49632000e+00,\n",
       "       1.12658000e+00, 2.14918000e+00, 1.41385000e+00, 3.53501000e+00,\n",
       "       2.44668000e+00, 1.22358000e+00, 1.34284000e+00, 1.42502000e+00,\n",
       "       1.27346000e+00, 1.46336000e+00, 1.83377000e+00, 1.51902000e+00,\n",
       "       2.24236000e+00, 2.92400000e+00, 2.01019000e+00, 1.80028000e+00,\n",
       "       2.30040000e+00, 2.44953000e+00, 1.20742000e+00, 2.31390000e+00,\n",
       "       1.39140000e-01, 9.17800000e-02, 8.44700000e-02, 6.66400000e-02,\n",
       "       7.02200000e-02, 5.42500000e-02, 6.64200000e-02, 5.78000000e-02,\n",
       "       6.58800000e-02, 6.88800000e-02, 9.10300000e-02, 1.00080000e-01,\n",
       "       8.30800000e-02, 6.04700000e-02, 5.60200000e-02, 7.87500000e-02,\n",
       "       1.25790000e-01, 8.37000000e-02, 9.06800000e-02, 6.91100000e-02,\n",
       "       8.66400000e-02, 2.18700000e-02, 1.43900000e-02, 1.38100000e-02,\n",
       "       4.01100000e-02, 4.66600000e-02, 3.76800000e-02, 3.15000000e-02,\n",
       "       1.77800000e-02, 3.44500000e-02, 2.17700000e-02, 3.51000000e-02,\n",
       "       2.00900000e-02, 1.36420000e-01, 2.29690000e-01, 2.51990000e-01,\n",
       "       1.35870000e-01, 4.35710000e-01, 1.74460000e-01, 3.75780000e-01,\n",
       "       2.17190000e-01, 1.40520000e-01, 2.89550000e-01, 1.98020000e-01,\n",
       "       4.56000000e-02, 7.01300000e-02, 1.10690000e-01, 1.14250000e-01,\n",
       "       3.58090000e-01, 4.07710000e-01, 6.23560000e-01, 6.14700000e-01,\n",
       "       3.15330000e-01, 5.26930000e-01, 3.82140000e-01, 4.12380000e-01,\n",
       "       2.98190000e-01, 4.41780000e-01, 5.37000000e-01, 4.62960000e-01,\n",
       "       5.75290000e-01, 3.31470000e-01, 4.47910000e-01, 3.30450000e-01,\n",
       "       5.20580000e-01, 5.11830000e-01, 8.24400000e-02, 9.25200000e-02,\n",
       "       1.13290000e-01, 1.06120000e-01, 1.02900000e-01, 1.27570000e-01,\n",
       "       2.06080000e-01, 1.91330000e-01, 3.39830000e-01, 1.96570000e-01,\n",
       "       1.64390000e-01, 1.90730000e-01, 1.40300000e-01, 2.14090000e-01,\n",
       "       8.22100000e-02, 3.68940000e-01, 4.81900000e-02, 3.54800000e-02,\n",
       "       1.53800000e-02, 6.11540000e-01, 6.63510000e-01, 6.56650000e-01,\n",
       "       5.40110000e-01, 5.34120000e-01, 5.20140000e-01, 8.25260000e-01,\n",
       "       5.50070000e-01, 7.61620000e-01, 7.85700000e-01, 5.78340000e-01,\n",
       "       5.40500000e-01, 9.06500000e-02, 2.99160000e-01, 1.62110000e-01,\n",
       "       1.14600000e-01, 2.21880000e-01, 5.64400000e-02, 9.60400000e-02,\n",
       "       1.04690000e-01, 6.12700000e-02, 7.97800000e-02, 2.10380000e-01,\n",
       "       3.57800000e-02, 3.70500000e-02, 6.12900000e-02, 1.50100000e-02,\n",
       "       9.06000000e-03, 1.09600000e-02, 1.96500000e-02, 3.87100000e-02,\n",
       "       4.59000000e-02, 4.29700000e-02, 3.50200000e-02, 7.88600000e-02,\n",
       "       3.61500000e-02, 8.26500000e-02, 8.19900000e-02, 1.29320000e-01,\n",
       "       5.37200000e-02, 1.41030000e-01, 6.46600000e-02, 5.56100000e-02,\n",
       "       4.41700000e-02, 3.53700000e-02, 9.26600000e-02, 1.00000000e-01,\n",
       "       5.51500000e-02, 5.47900000e-02, 7.50300000e-02, 4.93200000e-02,\n",
       "       4.92980000e-01, 3.49400000e-01, 2.63548000e+00, 7.90410000e-01,\n",
       "       2.61690000e-01, 2.69380000e-01, 3.69200000e-01, 2.53560000e-01,\n",
       "       3.18270000e-01, 2.45220000e-01, 4.02020000e-01, 4.75470000e-01,\n",
       "       1.67600000e-01, 1.81590000e-01, 3.51140000e-01, 2.83920000e-01,\n",
       "       3.41090000e-01, 1.91860000e-01, 3.03470000e-01, 2.41030000e-01,\n",
       "       6.61700000e-02, 6.72400000e-02, 4.54400000e-02, 5.02300000e-02,\n",
       "       3.46600000e-02, 5.08300000e-02, 3.73800000e-02, 3.96100000e-02,\n",
       "       3.42700000e-02, 3.04100000e-02, 3.30600000e-02, 5.49700000e-02,\n",
       "       6.15100000e-02, 1.30100000e-02, 2.49800000e-02, 2.54300000e-02,\n",
       "       3.04900000e-02, 3.11300000e-02, 6.16200000e-02, 1.87000000e-02,\n",
       "       1.50100000e-02, 2.89900000e-02, 6.21100000e-02, 7.95000000e-02,\n",
       "       7.24400000e-02, 1.70900000e-02, 4.30100000e-02, 1.06590000e-01,\n",
       "       8.98296000e+00, 3.84970000e+00, 5.20177000e+00, 4.26131000e+00,\n",
       "       4.54192000e+00, 3.83684000e+00, 3.67822000e+00, 4.22239000e+00,\n",
       "       3.47428000e+00, 4.55587000e+00, 3.69695000e+00, 8.00066144e-16,\n",
       "       4.89822000e+00, 5.66998000e+00, 6.53876000e+00, 9.23230000e+00,\n",
       "       8.26725000e+00, 8.00066144e-16, 8.00066144e-16, 7.82387098e-16,\n",
       "       7.43661567e-16, 9.82349000e+00, 7.68075488e-16, 8.00066144e-16,\n",
       "       7.31875536e-16, 7.92489410e-16, 9.18702000e+00, 7.99248000e+00,\n",
       "       7.25982521e-16, 7.84070816e-16, 8.00066144e-16, 7.11670911e-16,\n",
       "       8.00066144e-16, 8.15174000e+00, 6.96215000e+00, 5.29305000e+00,\n",
       "       7.74810363e-16, 8.64476000e+00, 7.55447598e-16, 8.71675000e+00,\n",
       "       5.87205000e+00, 7.67202000e+00, 8.00066144e-16, 9.91655000e+00,\n",
       "       8.00066144e-16, 8.00066144e-16, 9.59571000e+00, 7.66391770e-16,\n",
       "       6.77154678e-16, 8.00066144e-16, 8.00066144e-16, 8.00066144e-16,\n",
       "       7.40389000e+00, 8.00066144e-16, 8.00066144e-16, 8.00066144e-16,\n",
       "       8.00066144e-16, 8.00066144e-16, 8.00066144e-16, 8.00066144e-16,\n",
       "       7.22615083e-16, 7.08303474e-16, 8.00066144e-16, 6.02229195e-16,\n",
       "       8.00066144e-16, 7.02259000e+00, 6.95675584e-16, 7.05042000e+00,\n",
       "       8.79212000e+00, 7.61340614e-16, 4.60796823e-16, 6.20750101e-16,\n",
       "       7.36711000e+00, 9.33889000e+00, 8.49213000e+00, 7.52080161e-16,\n",
       "       6.44405000e+00, 5.58107000e+00, 7.57973176e-16, 7.54605739e-16,\n",
       "       7.43661567e-16, 8.00066144e-16, 6.98201162e-16, 9.39063000e+00,\n",
       "       7.36084833e-16, 9.72418000e+00, 5.66637000e+00, 9.96654000e+00,\n",
       "       7.71442926e-16, 7.56289457e-16, 6.28807000e+00, 9.92485000e+00,\n",
       "       9.32909000e+00, 7.52601000e+00, 6.71772000e+00, 5.44114000e+00,\n",
       "       5.09017000e+00, 8.24809000e+00, 9.51363000e+00, 4.75237000e+00,\n",
       "       4.66883000e+00, 8.20058000e+00, 7.75223000e+00, 6.80117000e+00,\n",
       "       4.81213000e+00, 3.69311000e+00, 6.65492000e+00, 5.82115000e+00,\n",
       "       7.83932000e+00, 3.16360000e+00, 3.77498000e+00, 4.42228000e+00,\n",
       "       5.55926930e-16, 4.35541042e-16, 4.34879000e+00, 4.03841000e+00,\n",
       "       3.56868000e+00, 4.64689000e+00, 8.05579000e+00, 6.39312000e+00,\n",
       "       4.87141000e+00, 7.77335941e-16, 7.72284785e-16, 6.99043021e-16,\n",
       "       5.82401000e+00, 5.70818000e+00, 5.73116000e+00, 2.81838000e+00,\n",
       "       2.37857000e+00, 3.67367000e+00, 5.69175000e+00, 4.83567000e+00,\n",
       "       1.50860000e-01, 1.83370000e-01, 2.07460000e-01, 1.05740000e-01,\n",
       "       1.11320000e-01, 1.73310000e-01, 2.79570000e-01, 1.78990000e-01,\n",
       "       2.89600000e-01, 2.68380000e-01, 2.39120000e-01, 1.77830000e-01,\n",
       "       2.24380000e-01, 6.26300000e-02, 4.52700000e-02, 6.07600000e-02,\n",
       "       1.09590000e-01, 4.74100000e-02])"
      ]
     },
     "execution_count": 20,
     "metadata": {},
     "output_type": "execute_result"
    }
   ],
   "source": [
    "y_predict=model.predict(dftest)\n",
    "y_predict"
   ]
  },
  {
   "cell_type": "code",
   "execution_count": 21,
   "id": "b58b8e5e",
   "metadata": {},
   "outputs": [],
   "source": [
    "from sklearn.metrics import mean_absolute_error,mean_squared_error"
   ]
  },
  {
   "cell_type": "code",
   "execution_count": 22,
   "id": "1c3ca3a4",
   "metadata": {},
   "outputs": [
    {
     "name": "stdout",
     "output_type": "stream",
     "text": [
      "3.481537300114677e-16\n",
      "3.802414052607631e-31\n",
      "6.166371747314324e-16\n"
     ]
    }
   ],
   "source": [
    "mae=mean_absolute_error(y_actual,y_predict)\n",
    "mse=mean_squared_error(y_actual,y_predict)\n",
    "rmse=np.sqrt(mse)\n",
    "print(mae)\n",
    "print(mse)\n",
    "print(rmse)"
   ]
  },
  {
   "cell_type": "code",
   "execution_count": 24,
   "id": "4a48263c",
   "metadata": {},
   "outputs": [
    {
     "data": {
      "text/plain": [
       "[<matplotlib.lines.Line2D at 0x1aa969b53d0>]"
      ]
     },
     "execution_count": 24,
     "metadata": {},
     "output_type": "execute_result"
    },
    {
     "data": {
      "image/png": "[encoded data removed]",
      "text/plain": [
       "<Figure size 432x288 with 1 Axes>"
      ]
     },
     "metadata": {
      "needs_background": "light"
     },
     "output_type": "display_data"
    }
   ],
   "source": [
    "plt.scatter(y_actual,y_predict)\n",
    "plt.plot(y_actual,y_predict)"
   ]
  },
  {
   "cell_type": "code",
   "execution_count": null,
   "id": "6d0a28e8",
   "metadata": {},
   "outputs": [],
   "source": []
  },
  {
   "cell_type": "code",
   "execution_count": null,
   "id": "8ba810ac",
   "metadata": {},
   "outputs": [],
   "source": []
  },
  {
   "cell_type": "code",
   "execution_count": null,
   "id": "8b92514c",
   "metadata": {},
   "outputs": [],
   "source": []
  }
 ],
 "metadata": {
  "kernelspec": {
   "display_name": "Python 3 (ipykernel)",
   "language": "python",
   "name": "python3"
  },
  "language_info": {
   "codemirror_mode": {
    "name": "ipython",
    "version": 3
   },
   "file_extension": ".py",
   "mimetype": "text/x-python",
   "name": "python",
   "nbconvert_exporter": "python",
   "pygments_lexer": "ipython3",
   "version": "3.9.7"
  }
 },
 "nbformat": 4,
 "nbformat_minor": 5
}
