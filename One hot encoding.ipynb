{
 "cells": [
  {
   "cell_type": "code",
   "execution_count": 5,
   "id": "1dc84729",
   "metadata": {},
   "outputs": [
    {
     "name": "stdout",
     "output_type": "stream",
     "text": [
      "   fruits\n",
      "0   apple\n",
      "1   apple\n",
      "2   mango\n",
      "3  orange\n",
      "4  orange\n",
      "5   mango\n"
     ]
    }
   ],
   "source": [
    "import pandas as pd\n",
    "import numpy as np\n",
    "df=pd.DataFrame(['apple','apple','mango','orange','orange','mango'],columns=['fruits'])\n",
    "print(df)"
   ]
  },
  {
   "cell_type": "code",
   "execution_count": 8,
   "id": "ddb23d34",
   "metadata": {},
   "outputs": [
    {
     "name": "stdout",
     "output_type": "stream",
     "text": [
      "   apple  mango  orange\n",
      "0      1      0       0\n",
      "1      1      0       0\n",
      "2      0      1       0\n",
      "3      0      0       1\n",
      "4      0      0       1\n",
      "5      0      1       0\n"
     ]
    }
   ],
   "source": [
    "df2=pd.get_dummies(df.fruits)\n",
    "print(df2)"
   ]
  },
  {
   "cell_type": "code",
   "execution_count": 10,
   "id": "ae55edd3",
   "metadata": {},
   "outputs": [
    {
     "name": "stdout",
     "output_type": "stream",
     "text": [
      "   fruits  apple  mango  orange\n",
      "0   apple      1      0       0\n",
      "1   apple      1      0       0\n",
      "2   mango      0      1       0\n",
      "3  orange      0      0       1\n",
      "4  orange      0      0       1\n",
      "5   mango      0      1       0\n"
     ]
    }
   ],
   "source": [
    "df3=pd.concat([df,df2],axis=1)\n",
    "print(df3)"
   ]
  },
  {
   "cell_type": "code",
   "execution_count": null,
   "id": "12624d50",
   "metadata": {},
   "outputs": [],
   "source": []
  }
 ],
 "metadata": {
  "kernelspec": {
   "display_name": "Python 3 (ipykernel)",
   "language": "python",
   "name": "python3"
  },
  "language_info": {
   "codemirror_mode": {
    "name": "ipython",
    "version": 3
   },
   "file_extension": ".py",
   "mimetype": "text/x-python",
   "name": "python",
   "nbconvert_exporter": "python",
   "pygments_lexer": "ipython3",
   "version": "3.9.7"
  }
 },
 "nbformat": 4,
 "nbformat_minor": 5
}
