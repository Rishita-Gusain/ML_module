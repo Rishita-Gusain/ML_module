{
 "cells": [
  {
   "cell_type": "code",
   "execution_count": 1,
   "id": "ac1c861f",
   "metadata": {},
   "outputs": [
    {
     "data": {
      "text/html": [
       "<div>\n",
       "<style scoped>\n",
       "    .dataframe tbody tr th:only-of-type {\n",
       "        vertical-align: middle;\n",
       "    }\n",
       "\n",
       "    .dataframe tbody tr th {\n",
       "        vertical-align: top;\n",
       "    }\n",
       "\n",
       "    .dataframe thead th {\n",
       "        text-align: right;\n",
       "    }\n",
       "</style>\n",
       "<table border=\"1\" class=\"dataframe\">\n",
       "  <thead>\n",
       "    <tr style=\"text-align: right;\">\n",
       "      <th></th>\n",
       "      <th>area</th>\n",
       "      <th>price</th>\n",
       "      <th>rooms</th>\n",
       "    </tr>\n",
       "  </thead>\n",
       "  <tbody>\n",
       "    <tr>\n",
       "      <th>0</th>\n",
       "      <td>2600</td>\n",
       "      <td>550000</td>\n",
       "      <td>2</td>\n",
       "    </tr>\n",
       "    <tr>\n",
       "      <th>1</th>\n",
       "      <td>3000</td>\n",
       "      <td>565000</td>\n",
       "      <td>3</td>\n",
       "    </tr>\n",
       "    <tr>\n",
       "      <th>2</th>\n",
       "      <td>3200</td>\n",
       "      <td>610000</td>\n",
       "      <td>4</td>\n",
       "    </tr>\n",
       "    <tr>\n",
       "      <th>3</th>\n",
       "      <td>3600</td>\n",
       "      <td>680000</td>\n",
       "      <td>5</td>\n",
       "    </tr>\n",
       "    <tr>\n",
       "      <th>4</th>\n",
       "      <td>4000</td>\n",
       "      <td>725000</td>\n",
       "      <td>5</td>\n",
       "    </tr>\n",
       "  </tbody>\n",
       "</table>\n",
       "</div>"
      ],
      "text/plain": [
       "   area   price  rooms\n",
       "0  2600  550000      2\n",
       "1  3000  565000      3\n",
       "2  3200  610000      4\n",
       "3  3600  680000      5\n",
       "4  4000  725000      5"
      ]
     },
     "execution_count": 1,
     "metadata": {},
     "output_type": "execute_result"
    }
   ],
   "source": [
    "import pandas as pd\n",
    "import matplotlib.pyplot as plt\n",
    "import numpy as np\n",
    "df=pd.read_csv(\"./CSV/HousePriceMV.csv\")\n",
    "df"
   ]
  },
  {
   "cell_type": "code",
   "execution_count": 2,
   "id": "aa6f5952",
   "metadata": {},
   "outputs": [
    {
     "data": {
      "text/plain": [
       "<matplotlib.collections.PathCollection at 0x11d4ae71640>"
      ]
     },
     "execution_count": 2,
     "metadata": {},
     "output_type": "execute_result"
    },
    {
     "data": {
      "image/png": "[encoded data removed]",
      "text/plain": [
       "<Figure size 432x288 with 1 Axes>"
      ]
     },
     "metadata": {
      "needs_background": "light"
     },
     "output_type": "display_data"
    }
   ],
   "source": [
    "plt.scatter(df.area,df.price)"
   ]
  },
  {
   "cell_type": "code",
   "execution_count": 3,
   "id": "fbb8f564",
   "metadata": {},
   "outputs": [
    {
     "data": {
      "text/plain": [
       "<matplotlib.collections.PathCollection at 0x11d4af9d1f0>"
      ]
     },
     "execution_count": 3,
     "metadata": {},
     "output_type": "execute_result"
    },
    {
     "data": {
      "image/png": "[encoded data removed]",
      "text/plain": [
       "<Figure size 432x288 with 1 Axes>"
      ]
     },
     "metadata": {
      "needs_background": "light"
     },
     "output_type": "display_data"
    }
   ],
   "source": [
    "plt.scatter(df.rooms,df.price)"
   ]
  },
  {
   "cell_type": "code",
   "execution_count": 4,
   "id": "49d4e299",
   "metadata": {},
   "outputs": [],
   "source": [
    "from sklearn import linear_model\n",
    "model=linear_model.LinearRegression()"
   ]
  },
  {
   "cell_type": "code",
   "execution_count": 5,
   "id": "8115c4c6",
   "metadata": {},
   "outputs": [
    {
     "data": {
      "text/html": [
       "<div>\n",
       "<style scoped>\n",
       "    .dataframe tbody tr th:only-of-type {\n",
       "        vertical-align: middle;\n",
       "    }\n",
       "\n",
       "    .dataframe tbody tr th {\n",
       "        vertical-align: top;\n",
       "    }\n",
       "\n",
       "    .dataframe thead th {\n",
       "        text-align: right;\n",
       "    }\n",
       "</style>\n",
       "<table border=\"1\" class=\"dataframe\">\n",
       "  <thead>\n",
       "    <tr style=\"text-align: right;\">\n",
       "      <th></th>\n",
       "      <th>area</th>\n",
       "      <th>rooms</th>\n",
       "    </tr>\n",
       "  </thead>\n",
       "  <tbody>\n",
       "    <tr>\n",
       "      <th>0</th>\n",
       "      <td>2600</td>\n",
       "      <td>2</td>\n",
       "    </tr>\n",
       "    <tr>\n",
       "      <th>1</th>\n",
       "      <td>3000</td>\n",
       "      <td>3</td>\n",
       "    </tr>\n",
       "    <tr>\n",
       "      <th>2</th>\n",
       "      <td>3200</td>\n",
       "      <td>4</td>\n",
       "    </tr>\n",
       "    <tr>\n",
       "      <th>3</th>\n",
       "      <td>3600</td>\n",
       "      <td>5</td>\n",
       "    </tr>\n",
       "    <tr>\n",
       "      <th>4</th>\n",
       "      <td>4000</td>\n",
       "      <td>5</td>\n",
       "    </tr>\n",
       "  </tbody>\n",
       "</table>\n",
       "</div>"
      ],
      "text/plain": [
       "   area  rooms\n",
       "0  2600      2\n",
       "1  3000      3\n",
       "2  3200      4\n",
       "3  3600      5\n",
       "4  4000      5"
      ]
     },
     "execution_count": 5,
     "metadata": {},
     "output_type": "execute_result"
    }
   ],
   "source": [
    "dftest=df.drop(\"price\",axis=1)\n",
    "dftest"
   ]
  },
  {
   "cell_type": "code",
   "execution_count": 6,
   "id": "0bf09d6a",
   "metadata": {},
   "outputs": [
    {
     "data": {
      "text/plain": [
       "LinearRegression()"
      ]
     },
     "execution_count": 6,
     "metadata": {},
     "output_type": "execute_result"
    }
   ],
   "source": [
    "model.fit(dftest,df.price)"
   ]
  },
  {
   "cell_type": "code",
   "execution_count": 7,
   "id": "e6af9094",
   "metadata": {},
   "outputs": [
    {
     "data": {
      "text/plain": [
       "0    550000\n",
       "1    565000\n",
       "2    610000\n",
       "3    680000\n",
       "4    725000\n",
       "Name: price, dtype: int64"
      ]
     },
     "execution_count": 7,
     "metadata": {},
     "output_type": "execute_result"
    }
   ],
   "source": [
    "y_actual=df.price\n",
    "y_actual"
   ]
  },
  {
   "cell_type": "code",
   "execution_count": 8,
   "id": "46f083fd",
   "metadata": {},
   "outputs": [
    {
     "data": {
      "text/plain": [
       "array([532894.73684211, 587473.68421053, 616368.42105263, 670947.36842105,\n",
       "       722315.78947368])"
      ]
     },
     "execution_count": 8,
     "metadata": {},
     "output_type": "execute_result"
    }
   ],
   "source": [
    "y_predict=model.predict(dftest)\n",
    "y_predict"
   ]
  },
  {
   "cell_type": "code",
   "execution_count": 9,
   "id": "7f4ef460",
   "metadata": {},
   "outputs": [],
   "source": [
    "from sklearn.model_selection import train_test_split\n",
    "x_train,x_test,y_train,y_test=train_test_split(dftest,df.price,test_size=0.2)"
   ]
  },
  {
   "cell_type": "code",
   "execution_count": 10,
   "id": "3bcf217a",
   "metadata": {},
   "outputs": [
    {
     "data": {
      "text/html": [
       "<div>\n",
       "<style scoped>\n",
       "    .dataframe tbody tr th:only-of-type {\n",
       "        vertical-align: middle;\n",
       "    }\n",
       "\n",
       "    .dataframe tbody tr th {\n",
       "        vertical-align: top;\n",
       "    }\n",
       "\n",
       "    .dataframe thead th {\n",
       "        text-align: right;\n",
       "    }\n",
       "</style>\n",
       "<table border=\"1\" class=\"dataframe\">\n",
       "  <thead>\n",
       "    <tr style=\"text-align: right;\">\n",
       "      <th></th>\n",
       "      <th>CRIM</th>\n",
       "      <th>ZN</th>\n",
       "      <th>INDUS</th>\n",
       "      <th>CHAS</th>\n",
       "      <th>NOX</th>\n",
       "      <th>RM</th>\n",
       "      <th>AGE</th>\n",
       "      <th>DIS</th>\n",
       "      <th>RAD</th>\n",
       "      <th>TAX</th>\n",
       "      <th>PTRATIO</th>\n",
       "      <th>MEDV</th>\n",
       "      <th>B</th>\n",
       "      <th>LSTAT</th>\n",
       "    </tr>\n",
       "  </thead>\n",
       "  <tbody>\n",
       "    <tr>\n",
       "      <th>0</th>\n",
       "      <td>0.00632</td>\n",
       "      <td>0.00632</td>\n",
       "      <td>0.00632</td>\n",
       "      <td>0.00632</td>\n",
       "      <td>0.00632</td>\n",
       "      <td>0.00632</td>\n",
       "      <td>0.00632</td>\n",
       "      <td>0.00632</td>\n",
       "      <td>0.00632</td>\n",
       "      <td>0.00632</td>\n",
       "      <td>0.00632</td>\n",
       "      <td>0.00632</td>\n",
       "      <td>0.00632</td>\n",
       "      <td>0.00632</td>\n",
       "    </tr>\n",
       "    <tr>\n",
       "      <th>1</th>\n",
       "      <td>0.02731</td>\n",
       "      <td>0.00000</td>\n",
       "      <td>7.07000</td>\n",
       "      <td>0.00000</td>\n",
       "      <td>0.46900</td>\n",
       "      <td>6.42100</td>\n",
       "      <td>78.90000</td>\n",
       "      <td>4.96710</td>\n",
       "      <td>2.00000</td>\n",
       "      <td>242.00000</td>\n",
       "      <td>17.80000</td>\n",
       "      <td>396.90000</td>\n",
       "      <td>9.14000</td>\n",
       "      <td>21.60000</td>\n",
       "    </tr>\n",
       "    <tr>\n",
       "      <th>2</th>\n",
       "      <td>0.02729</td>\n",
       "      <td>0.00000</td>\n",
       "      <td>7.07000</td>\n",
       "      <td>0.00000</td>\n",
       "      <td>0.46900</td>\n",
       "      <td>7.18500</td>\n",
       "      <td>61.10000</td>\n",
       "      <td>4.96710</td>\n",
       "      <td>2.00000</td>\n",
       "      <td>242.00000</td>\n",
       "      <td>17.80000</td>\n",
       "      <td>392.83000</td>\n",
       "      <td>4.03000</td>\n",
       "      <td>34.70000</td>\n",
       "    </tr>\n",
       "    <tr>\n",
       "      <th>3</th>\n",
       "      <td>0.03237</td>\n",
       "      <td>0.00000</td>\n",
       "      <td>2.18000</td>\n",
       "      <td>0.00000</td>\n",
       "      <td>0.45800</td>\n",
       "      <td>6.99800</td>\n",
       "      <td>45.80000</td>\n",
       "      <td>6.06220</td>\n",
       "      <td>3.00000</td>\n",
       "      <td>222.00000</td>\n",
       "      <td>18.70000</td>\n",
       "      <td>394.63000</td>\n",
       "      <td>2.94000</td>\n",
       "      <td>33.40000</td>\n",
       "    </tr>\n",
       "    <tr>\n",
       "      <th>4</th>\n",
       "      <td>0.06905</td>\n",
       "      <td>0.00000</td>\n",
       "      <td>2.18000</td>\n",
       "      <td>0.00000</td>\n",
       "      <td>0.45800</td>\n",
       "      <td>7.14700</td>\n",
       "      <td>54.20000</td>\n",
       "      <td>6.06220</td>\n",
       "      <td>3.00000</td>\n",
       "      <td>222.00000</td>\n",
       "      <td>18.70000</td>\n",
       "      <td>396.90000</td>\n",
       "      <td>5.33000</td>\n",
       "      <td>36.20000</td>\n",
       "    </tr>\n",
       "    <tr>\n",
       "      <th>...</th>\n",
       "      <td>...</td>\n",
       "      <td>...</td>\n",
       "      <td>...</td>\n",
       "      <td>...</td>\n",
       "      <td>...</td>\n",
       "      <td>...</td>\n",
       "      <td>...</td>\n",
       "      <td>...</td>\n",
       "      <td>...</td>\n",
       "      <td>...</td>\n",
       "      <td>...</td>\n",
       "      <td>...</td>\n",
       "      <td>...</td>\n",
       "      <td>...</td>\n",
       "    </tr>\n",
       "    <tr>\n",
       "      <th>501</th>\n",
       "      <td>0.06263</td>\n",
       "      <td>0.00000</td>\n",
       "      <td>11.93000</td>\n",
       "      <td>0.00000</td>\n",
       "      <td>0.57300</td>\n",
       "      <td>6.59300</td>\n",
       "      <td>69.10000</td>\n",
       "      <td>2.47860</td>\n",
       "      <td>1.00000</td>\n",
       "      <td>273.00000</td>\n",
       "      <td>21.00000</td>\n",
       "      <td>391.99000</td>\n",
       "      <td>9.67000</td>\n",
       "      <td>22.40000</td>\n",
       "    </tr>\n",
       "    <tr>\n",
       "      <th>502</th>\n",
       "      <td>0.04527</td>\n",
       "      <td>0.00000</td>\n",
       "      <td>11.93000</td>\n",
       "      <td>0.00000</td>\n",
       "      <td>0.57300</td>\n",
       "      <td>6.12000</td>\n",
       "      <td>76.70000</td>\n",
       "      <td>2.28750</td>\n",
       "      <td>1.00000</td>\n",
       "      <td>273.00000</td>\n",
       "      <td>21.00000</td>\n",
       "      <td>396.90000</td>\n",
       "      <td>9.08000</td>\n",
       "      <td>20.60000</td>\n",
       "    </tr>\n",
       "    <tr>\n",
       "      <th>503</th>\n",
       "      <td>0.06076</td>\n",
       "      <td>0.00000</td>\n",
       "      <td>11.93000</td>\n",
       "      <td>0.00000</td>\n",
       "      <td>0.57300</td>\n",
       "      <td>6.97600</td>\n",
       "      <td>91.00000</td>\n",
       "      <td>2.16750</td>\n",
       "      <td>1.00000</td>\n",
       "      <td>273.00000</td>\n",
       "      <td>21.00000</td>\n",
       "      <td>396.90000</td>\n",
       "      <td>5.64000</td>\n",
       "      <td>23.90000</td>\n",
       "    </tr>\n",
       "    <tr>\n",
       "      <th>504</th>\n",
       "      <td>0.10959</td>\n",
       "      <td>0.00000</td>\n",
       "      <td>11.93000</td>\n",
       "      <td>0.00000</td>\n",
       "      <td>0.57300</td>\n",
       "      <td>6.79400</td>\n",
       "      <td>89.30000</td>\n",
       "      <td>2.38890</td>\n",
       "      <td>1.00000</td>\n",
       "      <td>273.00000</td>\n",
       "      <td>21.00000</td>\n",
       "      <td>393.45000</td>\n",
       "      <td>6.48000</td>\n",
       "      <td>22.00000</td>\n",
       "    </tr>\n",
       "    <tr>\n",
       "      <th>505</th>\n",
       "      <td>0.04741</td>\n",
       "      <td>0.00000</td>\n",
       "      <td>11.93000</td>\n",
       "      <td>0.00000</td>\n",
       "      <td>0.57300</td>\n",
       "      <td>6.03000</td>\n",
       "      <td>80.80000</td>\n",
       "      <td>2.50500</td>\n",
       "      <td>1.00000</td>\n",
       "      <td>273.00000</td>\n",
       "      <td>21.00000</td>\n",
       "      <td>396.90000</td>\n",
       "      <td>7.88000</td>\n",
       "      <td>11.90000</td>\n",
       "    </tr>\n",
       "  </tbody>\n",
       "</table>\n",
       "<p>506 rows × 14 columns</p>\n",
       "</div>"
      ],
      "text/plain": [
       "        CRIM       ZN     INDUS     CHAS      NOX       RM       AGE      DIS  \\\n",
       "0    0.00632  0.00632   0.00632  0.00632  0.00632  0.00632   0.00632  0.00632   \n",
       "1    0.02731  0.00000   7.07000  0.00000  0.46900  6.42100  78.90000  4.96710   \n",
       "2    0.02729  0.00000   7.07000  0.00000  0.46900  7.18500  61.10000  4.96710   \n",
       "3    0.03237  0.00000   2.18000  0.00000  0.45800  6.99800  45.80000  6.06220   \n",
       "4    0.06905  0.00000   2.18000  0.00000  0.45800  7.14700  54.20000  6.06220   \n",
       "..       ...      ...       ...      ...      ...      ...       ...      ...   \n",
       "501  0.06263  0.00000  11.93000  0.00000  0.57300  6.59300  69.10000  2.47860   \n",
       "502  0.04527  0.00000  11.93000  0.00000  0.57300  6.12000  76.70000  2.28750   \n",
       "503  0.06076  0.00000  11.93000  0.00000  0.57300  6.97600  91.00000  2.16750   \n",
       "504  0.10959  0.00000  11.93000  0.00000  0.57300  6.79400  89.30000  2.38890   \n",
       "505  0.04741  0.00000  11.93000  0.00000  0.57300  6.03000  80.80000  2.50500   \n",
       "\n",
       "         RAD        TAX   PTRATIO       MEDV        B     LSTAT  \n",
       "0    0.00632    0.00632   0.00632    0.00632  0.00632   0.00632  \n",
       "1    2.00000  242.00000  17.80000  396.90000  9.14000  21.60000  \n",
       "2    2.00000  242.00000  17.80000  392.83000  4.03000  34.70000  \n",
       "3    3.00000  222.00000  18.70000  394.63000  2.94000  33.40000  \n",
       "4    3.00000  222.00000  18.70000  396.90000  5.33000  36.20000  \n",
       "..       ...        ...       ...        ...      ...       ...  \n",
       "501  1.00000  273.00000  21.00000  391.99000  9.67000  22.40000  \n",
       "502  1.00000  273.00000  21.00000  396.90000  9.08000  20.60000  \n",
       "503  1.00000  273.00000  21.00000  396.90000  5.64000  23.90000  \n",
       "504  1.00000  273.00000  21.00000  393.45000  6.48000  22.00000  \n",
       "505  1.00000  273.00000  21.00000  396.90000  7.88000  11.90000  \n",
       "\n",
       "[506 rows x 14 columns]"
      ]
     },
     "execution_count": 10,
     "metadata": {},
     "output_type": "execute_result"
    }
   ],
   "source": [
    "df=pd.read_csv(\"./CSV/housing.csv\")\n",
    "df"
   ]
  },
  {
   "cell_type": "code",
   "execution_count": 11,
   "id": "f8855bb3",
   "metadata": {},
   "outputs": [
    {
     "data": {
      "text/plain": [
       "<matplotlib.collections.PathCollection at 0x11d4d35ae80>"
      ]
     },
     "execution_count": 11,
     "metadata": {},
     "output_type": "execute_result"
    },
    {
     "data": {
      "image/png": "[encoded data removed]",
      "text/plain": [
       "<Figure size 432x288 with 1 Axes>"
      ]
     },
     "metadata": {
      "needs_background": "light"
     },
     "output_type": "display_data"
    }
   ],
   "source": [
    "plt.scatter(df.CRIM,df.LSTAT)"
   ]
  },
  {
   "cell_type": "code",
   "execution_count": 12,
   "id": "ede81c1b",
   "metadata": {},
   "outputs": [
    {
     "data": {
      "text/plain": [
       "<matplotlib.collections.PathCollection at 0x11d4d3c9670>"
      ]
     },
     "execution_count": 12,
     "metadata": {},
     "output_type": "execute_result"
    },
    {
     "data": {
      "image/png": "[encoded data removed]",
      "text/plain": [
       "<Figure size 432x288 with 1 Axes>"
      ]
     },
     "metadata": {
      "needs_background": "light"
     },
     "output_type": "display_data"
    }
   ],
   "source": [
    "plt.scatter(df.ZN,df.LSTAT)"
   ]
  },
  {
   "cell_type": "code",
   "execution_count": 13,
   "id": "2c3070d0",
   "metadata": {},
   "outputs": [
    {
     "data": {
      "text/plain": [
       "<matplotlib.collections.PathCollection at 0x11d4d427df0>"
      ]
     },
     "execution_count": 13,
     "metadata": {},
     "output_type": "execute_result"
    },
    {
     "data": {
      "image/png": "[encoded data removed]",
      "text/plain": [
       "<Figure size 432x288 with 1 Axes>"
      ]
     },
     "metadata": {
      "needs_background": "light"
     },
     "output_type": "display_data"
    }
   ],
   "source": [
    "plt.scatter(df.INDUS,df.LSTAT)"
   ]
  },
  {
   "cell_type": "code",
   "execution_count": 14,
   "id": "36871197",
   "metadata": {},
   "outputs": [
    {
     "data": {
      "text/plain": [
       "<matplotlib.collections.PathCollection at 0x11d4d495460>"
      ]
     },
     "execution_count": 14,
     "metadata": {},
     "output_type": "execute_result"
    },
    {
     "data": {
      "image/png": "[encoded data removed]",
      "text/plain": [
       "<Figure size 432x288 with 1 Axes>"
      ]
     },
     "metadata": {
      "needs_background": "light"
     },
     "output_type": "display_data"
    }
   ],
   "source": [
    "plt.scatter(df.INDUS,df.LSTAT)"
   ]
  },
  {
   "cell_type": "code",
   "execution_count": 15,
   "id": "2898c315",
   "metadata": {},
   "outputs": [
    {
     "data": {
      "text/plain": [
       "<matplotlib.collections.PathCollection at 0x11d4d4f7b80>"
      ]
     },
     "execution_count": 15,
     "metadata": {},
     "output_type": "execute_result"
    },
    {
     "data": {
      "image/png": "[encoded data removed]",
      "text/plain": [
       "<Figure size 432x288 with 1 Axes>"
      ]
     },
     "metadata": {
      "needs_background": "light"
     },
     "output_type": "display_data"
    }
   ],
   "source": [
    "plt.scatter(df.NOX,df.LSTAT)"
   ]
  },
  {
   "cell_type": "code",
   "execution_count": 16,
   "id": "ffd2c848",
   "metadata": {},
   "outputs": [
    {
     "data": {
      "text/plain": [
       "<matplotlib.collections.PathCollection at 0x11d4d55ad30>"
      ]
     },
     "execution_count": 16,
     "metadata": {},
     "output_type": "execute_result"
    },
    {
     "data": {
      "image/png": "[encoded data removed]",
      "text/plain": [
       "<Figure size 432x288 with 1 Axes>"
      ]
     },
     "metadata": {
      "needs_background": "light"
     },
     "output_type": "display_data"
    }
   ],
   "source": [
    "plt.scatter(df.RM,df.LSTAT)"
   ]
  },
  {
   "cell_type": "code",
   "execution_count": 17,
   "id": "b6076067",
   "metadata": {},
   "outputs": [
    {
     "data": {
      "text/plain": [
       "<matplotlib.collections.PathCollection at 0x11d4d5baf10>"
      ]
     },
     "execution_count": 17,
     "metadata": {},
     "output_type": "execute_result"
    },
    {
     "data": {
      "image/png": "[encoded data removed]",
      "text/plain": [
       "<Figure size 432x288 with 1 Axes>"
      ]
     },
     "metadata": {
      "needs_background": "light"
     },
     "output_type": "display_data"
    }
   ],
   "source": [
    "plt.scatter(df.AGE,df.LSTAT)"
   ]
  },
  {
   "cell_type": "code",
   "execution_count": 18,
   "id": "8366273e",
   "metadata": {},
   "outputs": [
    {
     "data": {
      "text/plain": [
       "<matplotlib.collections.PathCollection at 0x11d4d621760>"
      ]
     },
     "execution_count": 18,
     "metadata": {},
     "output_type": "execute_result"
    },
    {
     "data": {
      "image/png": "[encoded data removed]",
      "text/plain": [
       "<Figure size 432x288 with 1 Axes>"
      ]
     },
     "metadata": {
      "needs_background": "light"
     },
     "output_type": "display_data"
    }
   ],
   "source": [
    "plt.scatter(df.DIS,df.LSTAT)"
   ]
  },
  {
   "cell_type": "code",
   "execution_count": 19,
   "id": "3944ee34",
   "metadata": {},
   "outputs": [],
   "source": [
    "#dftest=df.drop(['ZN','INDUS','CHAS','NOX','AGE','RAD','TAX','PTRATIO','MEDV','B','DIS','LSTAT'],axis=1)\n",
    "#dftest"
   ]
  },
  {
   "cell_type": "code",
   "execution_count": 20,
   "id": "aae19898",
   "metadata": {},
   "outputs": [],
   "source": [
    "from sklearn import linear_model\n",
    "model=linear_model.LinearRegression()"
   ]
  },
  {
   "cell_type": "markdown",
   "id": "5923ed75",
   "metadata": {},
   "source": [
    "# using crim\n"
   ]
  },
  {
   "cell_type": "code",
   "execution_count": 21,
   "id": "8e3f0d90",
   "metadata": {},
   "outputs": [
    {
     "data": {
      "text/html": [
       "<div>\n",
       "<style scoped>\n",
       "    .dataframe tbody tr th:only-of-type {\n",
       "        vertical-align: middle;\n",
       "    }\n",
       "\n",
       "    .dataframe tbody tr th {\n",
       "        vertical-align: top;\n",
       "    }\n",
       "\n",
       "    .dataframe thead th {\n",
       "        text-align: right;\n",
       "    }\n",
       "</style>\n",
       "<table border=\"1\" class=\"dataframe\">\n",
       "  <thead>\n",
       "    <tr style=\"text-align: right;\">\n",
       "      <th></th>\n",
       "      <th>ZN</th>\n",
       "      <th>INDUS</th>\n",
       "      <th>CHAS</th>\n",
       "      <th>NOX</th>\n",
       "      <th>RM</th>\n",
       "      <th>AGE</th>\n",
       "      <th>DIS</th>\n",
       "      <th>RAD</th>\n",
       "      <th>TAX</th>\n",
       "      <th>PTRATIO</th>\n",
       "      <th>MEDV</th>\n",
       "      <th>B</th>\n",
       "      <th>LSTAT</th>\n",
       "    </tr>\n",
       "  </thead>\n",
       "  <tbody>\n",
       "    <tr>\n",
       "      <th>0</th>\n",
       "      <td>0.00632</td>\n",
       "      <td>0.00632</td>\n",
       "      <td>0.00632</td>\n",
       "      <td>0.00632</td>\n",
       "      <td>0.00632</td>\n",
       "      <td>0.00632</td>\n",
       "      <td>0.00632</td>\n",
       "      <td>0.00632</td>\n",
       "      <td>0.00632</td>\n",
       "      <td>0.00632</td>\n",
       "      <td>0.00632</td>\n",
       "      <td>0.00632</td>\n",
       "      <td>0.00632</td>\n",
       "    </tr>\n",
       "    <tr>\n",
       "      <th>1</th>\n",
       "      <td>0.00000</td>\n",
       "      <td>7.07000</td>\n",
       "      <td>0.00000</td>\n",
       "      <td>0.46900</td>\n",
       "      <td>6.42100</td>\n",
       "      <td>78.90000</td>\n",
       "      <td>4.96710</td>\n",
       "      <td>2.00000</td>\n",
       "      <td>242.00000</td>\n",
       "      <td>17.80000</td>\n",
       "      <td>396.90000</td>\n",
       "      <td>9.14000</td>\n",
       "      <td>21.60000</td>\n",
       "    </tr>\n",
       "    <tr>\n",
       "      <th>2</th>\n",
       "      <td>0.00000</td>\n",
       "      <td>7.07000</td>\n",
       "      <td>0.00000</td>\n",
       "      <td>0.46900</td>\n",
       "      <td>7.18500</td>\n",
       "      <td>61.10000</td>\n",
       "      <td>4.96710</td>\n",
       "      <td>2.00000</td>\n",
       "      <td>242.00000</td>\n",
       "      <td>17.80000</td>\n",
       "      <td>392.83000</td>\n",
       "      <td>4.03000</td>\n",
       "      <td>34.70000</td>\n",
       "    </tr>\n",
       "    <tr>\n",
       "      <th>3</th>\n",
       "      <td>0.00000</td>\n",
       "      <td>2.18000</td>\n",
       "      <td>0.00000</td>\n",
       "      <td>0.45800</td>\n",
       "      <td>6.99800</td>\n",
       "      <td>45.80000</td>\n",
       "      <td>6.06220</td>\n",
       "      <td>3.00000</td>\n",
       "      <td>222.00000</td>\n",
       "      <td>18.70000</td>\n",
       "      <td>394.63000</td>\n",
       "      <td>2.94000</td>\n",
       "      <td>33.40000</td>\n",
       "    </tr>\n",
       "    <tr>\n",
       "      <th>4</th>\n",
       "      <td>0.00000</td>\n",
       "      <td>2.18000</td>\n",
       "      <td>0.00000</td>\n",
       "      <td>0.45800</td>\n",
       "      <td>7.14700</td>\n",
       "      <td>54.20000</td>\n",
       "      <td>6.06220</td>\n",
       "      <td>3.00000</td>\n",
       "      <td>222.00000</td>\n",
       "      <td>18.70000</td>\n",
       "      <td>396.90000</td>\n",
       "      <td>5.33000</td>\n",
       "      <td>36.20000</td>\n",
       "    </tr>\n",
       "    <tr>\n",
       "      <th>...</th>\n",
       "      <td>...</td>\n",
       "      <td>...</td>\n",
       "      <td>...</td>\n",
       "      <td>...</td>\n",
       "      <td>...</td>\n",
       "      <td>...</td>\n",
       "      <td>...</td>\n",
       "      <td>...</td>\n",
       "      <td>...</td>\n",
       "      <td>...</td>\n",
       "      <td>...</td>\n",
       "      <td>...</td>\n",
       "      <td>...</td>\n",
       "    </tr>\n",
       "    <tr>\n",
       "      <th>501</th>\n",
       "      <td>0.00000</td>\n",
       "      <td>11.93000</td>\n",
       "      <td>0.00000</td>\n",
       "      <td>0.57300</td>\n",
       "      <td>6.59300</td>\n",
       "      <td>69.10000</td>\n",
       "      <td>2.47860</td>\n",
       "      <td>1.00000</td>\n",
       "      <td>273.00000</td>\n",
       "      <td>21.00000</td>\n",
       "      <td>391.99000</td>\n",
       "      <td>9.67000</td>\n",
       "      <td>22.40000</td>\n",
       "    </tr>\n",
       "    <tr>\n",
       "      <th>502</th>\n",
       "      <td>0.00000</td>\n",
       "      <td>11.93000</td>\n",
       "      <td>0.00000</td>\n",
       "      <td>0.57300</td>\n",
       "      <td>6.12000</td>\n",
       "      <td>76.70000</td>\n",
       "      <td>2.28750</td>\n",
       "      <td>1.00000</td>\n",
       "      <td>273.00000</td>\n",
       "      <td>21.00000</td>\n",
       "      <td>396.90000</td>\n",
       "      <td>9.08000</td>\n",
       "      <td>20.60000</td>\n",
       "    </tr>\n",
       "    <tr>\n",
       "      <th>503</th>\n",
       "      <td>0.00000</td>\n",
       "      <td>11.93000</td>\n",
       "      <td>0.00000</td>\n",
       "      <td>0.57300</td>\n",
       "      <td>6.97600</td>\n",
       "      <td>91.00000</td>\n",
       "      <td>2.16750</td>\n",
       "      <td>1.00000</td>\n",
       "      <td>273.00000</td>\n",
       "      <td>21.00000</td>\n",
       "      <td>396.90000</td>\n",
       "      <td>5.64000</td>\n",
       "      <td>23.90000</td>\n",
       "    </tr>\n",
       "    <tr>\n",
       "      <th>504</th>\n",
       "      <td>0.00000</td>\n",
       "      <td>11.93000</td>\n",
       "      <td>0.00000</td>\n",
       "      <td>0.57300</td>\n",
       "      <td>6.79400</td>\n",
       "      <td>89.30000</td>\n",
       "      <td>2.38890</td>\n",
       "      <td>1.00000</td>\n",
       "      <td>273.00000</td>\n",
       "      <td>21.00000</td>\n",
       "      <td>393.45000</td>\n",
       "      <td>6.48000</td>\n",
       "      <td>22.00000</td>\n",
       "    </tr>\n",
       "    <tr>\n",
       "      <th>505</th>\n",
       "      <td>0.00000</td>\n",
       "      <td>11.93000</td>\n",
       "      <td>0.00000</td>\n",
       "      <td>0.57300</td>\n",
       "      <td>6.03000</td>\n",
       "      <td>80.80000</td>\n",
       "      <td>2.50500</td>\n",
       "      <td>1.00000</td>\n",
       "      <td>273.00000</td>\n",
       "      <td>21.00000</td>\n",
       "      <td>396.90000</td>\n",
       "      <td>7.88000</td>\n",
       "      <td>11.90000</td>\n",
       "    </tr>\n",
       "  </tbody>\n",
       "</table>\n",
       "<p>506 rows × 13 columns</p>\n",
       "</div>"
      ],
      "text/plain": [
       "          ZN     INDUS     CHAS      NOX       RM       AGE      DIS      RAD  \\\n",
       "0    0.00632   0.00632  0.00632  0.00632  0.00632   0.00632  0.00632  0.00632   \n",
       "1    0.00000   7.07000  0.00000  0.46900  6.42100  78.90000  4.96710  2.00000   \n",
       "2    0.00000   7.07000  0.00000  0.46900  7.18500  61.10000  4.96710  2.00000   \n",
       "3    0.00000   2.18000  0.00000  0.45800  6.99800  45.80000  6.06220  3.00000   \n",
       "4    0.00000   2.18000  0.00000  0.45800  7.14700  54.20000  6.06220  3.00000   \n",
       "..       ...       ...      ...      ...      ...       ...      ...      ...   \n",
       "501  0.00000  11.93000  0.00000  0.57300  6.59300  69.10000  2.47860  1.00000   \n",
       "502  0.00000  11.93000  0.00000  0.57300  6.12000  76.70000  2.28750  1.00000   \n",
       "503  0.00000  11.93000  0.00000  0.57300  6.97600  91.00000  2.16750  1.00000   \n",
       "504  0.00000  11.93000  0.00000  0.57300  6.79400  89.30000  2.38890  1.00000   \n",
       "505  0.00000  11.93000  0.00000  0.57300  6.03000  80.80000  2.50500  1.00000   \n",
       "\n",
       "           TAX   PTRATIO       MEDV        B     LSTAT  \n",
       "0      0.00632   0.00632    0.00632  0.00632   0.00632  \n",
       "1    242.00000  17.80000  396.90000  9.14000  21.60000  \n",
       "2    242.00000  17.80000  392.83000  4.03000  34.70000  \n",
       "3    222.00000  18.70000  394.63000  2.94000  33.40000  \n",
       "4    222.00000  18.70000  396.90000  5.33000  36.20000  \n",
       "..         ...       ...        ...      ...       ...  \n",
       "501  273.00000  21.00000  391.99000  9.67000  22.40000  \n",
       "502  273.00000  21.00000  396.90000  9.08000  20.60000  \n",
       "503  273.00000  21.00000  396.90000  5.64000  23.90000  \n",
       "504  273.00000  21.00000  393.45000  6.48000  22.00000  \n",
       "505  273.00000  21.00000  396.90000  7.88000  11.90000  \n",
       "\n",
       "[506 rows x 13 columns]"
      ]
     },
     "execution_count": 21,
     "metadata": {},
     "output_type": "execute_result"
    }
   ],
   "source": [
    "dftest=df.drop(\"CRIM\",axis=1)\n",
    "dftest"
   ]
  },
  {
   "cell_type": "code",
   "execution_count": 22,
   "id": "12df8a3a",
   "metadata": {},
   "outputs": [
    {
     "name": "stdout",
     "output_type": "stream",
     "text": [
      "None\n"
     ]
    }
   ],
   "source": [
    "df2=dftest.fillna(value=df.LSTAT.mean(),inplace=True)\n",
    "print(df2)"
   ]
  },
  {
   "cell_type": "code",
   "execution_count": 23,
   "id": "4c2fd3fd",
   "metadata": {},
   "outputs": [],
   "source": [
    "#df.isnull().sum()"
   ]
  },
  {
   "cell_type": "code",
   "execution_count": 24,
   "id": "529fc7ca",
   "metadata": {},
   "outputs": [
    {
     "data": {
      "text/plain": [
       "LinearRegression()"
      ]
     },
     "execution_count": 24,
     "metadata": {},
     "output_type": "execute_result"
    }
   ],
   "source": [
    "model.fit(dftest,df.CRIM)"
   ]
  },
  {
   "cell_type": "code",
   "execution_count": 25,
   "id": "e4802666",
   "metadata": {},
   "outputs": [
    {
     "data": {
      "text/plain": [
       "0      0.00632\n",
       "1      0.02731\n",
       "2      0.02729\n",
       "3      0.03237\n",
       "4      0.06905\n",
       "        ...   \n",
       "501    0.06263\n",
       "502    0.04527\n",
       "503    0.06076\n",
       "504    0.10959\n",
       "505    0.04741\n",
       "Name: CRIM, Length: 506, dtype: float64"
      ]
     },
     "execution_count": 25,
     "metadata": {},
     "output_type": "execute_result"
    }
   ],
   "source": [
    "y_actual=df.CRIM\n",
    "y_actual"
   ]
  },
  {
   "cell_type": "code",
   "execution_count": 26,
   "id": "70f2cfd0",
   "metadata": {},
   "outputs": [
    {
     "data": {
      "text/plain": [
       "array([-1.17217416, -0.53947821, -0.63684717, -0.95319062, -0.82596591,\n",
       "       -0.86562111,  0.32552931,  0.61607601,  0.92390696,  0.34748266,\n",
       "        0.45872945,  0.2308662 ,  0.3880492 ,  0.18099985,  0.40521976,\n",
       "        0.21450321,  0.13187435,  0.55899847,  0.83949195,  0.48795033,\n",
       "        0.9299052 ,  0.5993947 ,  0.71401703,  0.77038408,  0.57866944,\n",
       "        0.90445677,  0.54598625,  0.9251268 ,  0.48422216,  0.52785374,\n",
       "        0.94278032,  0.57717701,  1.63842947,  0.88960847,  1.40337032,\n",
       "        0.26566761,  0.39487543,  0.07037839,  0.15117954, -0.3437674 ,\n",
       "       -0.41279465, -1.05902275, -1.00052178, -0.99566227, -0.83275273,\n",
       "       -0.75102793, -0.60926736, -0.42468787, -0.02601023, -0.63463115,\n",
       "       -0.67249078, -0.75080369, -0.9998395 , -0.88922573,  2.22379379,\n",
       "       -1.08190856, -0.16901392, -0.616615  , -0.50763873, -0.2630367 ,\n",
       "       -0.11812204,  0.1175934 , -0.33069396, -0.42264817, -1.30822765,\n",
       "        0.4012198 ,  0.60885693,  0.35336961,  0.53166745,  0.39802828,\n",
       "       -0.18666466, -0.02794575, -0.25819787, -0.1361762 ,  1.01528262,\n",
       "        1.18014927,  1.48447794,  1.28972734,  1.21775476,  1.10983793,\n",
       "       -0.16187793, -0.01781852, -0.13737726, -0.05689961, -0.36276427,\n",
       "       -0.34227387, -0.1914723 , -0.18758672,  0.14593694,  0.14094775,\n",
       "        0.28900607,  0.27969471, -0.29988199, -0.41881017, -0.15900945,\n",
       "        0.41157263,  0.41495913,  0.29408179,  0.22982415,  0.2823538 ,\n",
       "        1.63528061,  1.51649244,  2.91116086,  1.74073902,  1.77958174,\n",
       "        2.00283742,  2.03984354,  1.90735853,  1.77363417,  1.86957491,\n",
       "        1.64103079,  2.15805076,  2.45038886,  2.43800512,  2.24939376,\n",
       "        2.59330301,  2.19523895,  2.13955036,  2.5807913 ,  2.22311153,\n",
       "       -1.32817144, -1.25365115, -1.07510057, -0.77338344, -1.08486804,\n",
       "       -1.19971605, -0.64343104,  2.07853097,  1.99634688,  2.04078982,\n",
       "        1.86094741,  1.81800087,  1.84863945,  1.90695768,  2.49332982,\n",
       "        2.00712087,  2.08789157,  1.9604686 ,  2.21602852,  2.13545441,\n",
       "        2.3260477 ,  2.74545407,  2.30206599,  2.12084515,  2.20349615,\n",
       "        3.02095546,  2.66038699,  2.23509683,  2.33954926,  2.08221225,\n",
       "        1.78055719,  1.89133475,  1.94090843,  2.27520577,  2.11699823,\n",
       "        2.98693686,  2.88842514,  1.68473247,  1.65738001,  1.56611321,\n",
       "        1.8506794 ,  1.58141936,  1.69968668,  1.69940018,  1.51596289,\n",
       "        2.11720449,  1.65971656,  2.1743196 ,  1.95892578,  1.78266324,\n",
       "        1.97300445,  1.69949172,  0.99564106,  0.75771873,  0.73709671,\n",
       "        0.45814299,  0.52965003,  0.51635359,  0.67556533, -0.5725792 ,\n",
       "       -0.38196503, -0.34656145, -0.43949003, -0.47825376, -0.24333139,\n",
       "       -0.35806902, -0.54543516,  1.81576276,  1.58550145,  1.62512863,\n",
       "        1.31110894,  1.21173345,  1.1821474 , -0.40280288, -0.34783218,\n",
       "       -0.05243065,  0.33457941,  0.64433567,  0.47057878,  1.19723865,\n",
       "        1.21201885,  0.81820153,  0.74569868, -0.36536158, -0.38236232,\n",
       "       -0.14102017, -0.10746721,  0.22231142,  0.29953411,  0.70212187,\n",
       "        0.48611124,  0.73478881,  0.38899058, -0.07305925,  0.76504194,\n",
       "       -0.09840139,  0.250858  ,  0.01083905,  0.52540018,  0.1866449 ,\n",
       "        1.03871537,  1.38209434,  0.95299786,  0.71905379,  0.81850512,\n",
       "        0.90538465,  0.66587424,  0.7820404 ,  0.60278786,  0.46687   ,\n",
       "        0.77881457,  0.62534475,  0.52687886,  0.7090354 ,  0.92342393,\n",
       "        0.73417443,  0.76069032,  0.44487351, -0.01967047,  0.06263793,\n",
       "        0.16007568,  0.2202794 ,  0.1126082 , -0.23035806,  0.34696948,\n",
       "        0.48090199,  0.07027562,  0.25093451,  0.22287153, -0.04447575,\n",
       "       -0.0238069 , -0.03508395, -0.32556661, -0.25860213, -0.29121815,\n",
       "       -0.24909854, -0.4530921 ,  0.66797206,  0.69873901,  0.56137194,\n",
       "        0.60748225,  0.65428542,  0.62649156,  0.67357105,  0.66855129,\n",
       "        0.53519888,  0.80190032,  0.62157634,  0.27366564, -0.1965907 ,\n",
       "       -0.53002405, -0.83467406, -0.57956996, -0.45296963, -0.11969374,\n",
       "       -0.32436634, -0.091267  , -0.2413159 , -0.20529153, -0.58523283,\n",
       "       -0.51550104, -0.7762104 , -0.45832378, -0.68203881, -0.15697378,\n",
       "       -0.07633454, -0.67815847, -0.26995668, -0.22333146, -0.10530773,\n",
       "       -0.4899809 , -0.39394562, -0.45474124, -0.50818294, -0.39147214,\n",
       "       -0.60180976, -0.49772898, -0.31314189,  0.58581682,  0.58331116,\n",
       "        0.62660855,  0.5250284 ,  0.52875509,  0.4239173 , -0.28251525,\n",
       "       -0.10229023, -0.08040593, -0.10302345,  0.26327051,  0.47323376,\n",
       "        0.72544537,  0.35844594,  0.61525787,  0.40535681,  0.40984053,\n",
       "        0.33484577,  0.61626695,  0.49231339,  0.39945906,  0.35062866,\n",
       "       -0.01737609, -0.0290501 , -0.06634346,  0.16339624, -0.11295083,\n",
       "       -0.34955752, -0.29515222, -0.01734405,  1.81425349,  1.7458186 ,\n",
       "        1.73157885, -0.02507661, -0.06087897, -1.13215189, -1.10844942,\n",
       "       -1.00449453, -0.77649311, -0.78440911, -0.76197279, -0.7122416 ,\n",
       "       -0.69075287, -0.20067213,  1.50213312,  1.07683807,  0.87334645,\n",
       "        0.33304736,  0.50443825,  0.27834736, -0.45664576,  0.04696715,\n",
       "        0.02563268,  0.73857378,  0.64150363, -2.19813611, -0.17044684,\n",
       "       -0.22031479,  5.45655687,  5.19579757,  5.07210354,  4.99307906,\n",
       "        4.92199089,  5.24221917,  5.07099824,  5.46777473,  5.08575991,\n",
       "        5.27654253,  5.55087595,  0.70202155,  5.37023296,  5.49087022,\n",
       "        5.41733572,  5.6192139 ,  5.82043004, -0.02828551,  0.12209288,\n",
       "       -0.34423387, -0.12048225,  5.43542734, -0.1990213 , -0.38091583,\n",
       "       -0.25528724, -0.39382581,  5.49262356,  5.54692904,  0.2571011 ,\n",
       "       -0.25670427, -0.05826105,  0.08066018, -0.11718101,  5.37160067,\n",
       "        5.23633047,  5.34809161, -0.06055218,  5.14159478, -0.02589051,\n",
       "        5.24451573,  5.30019715,  5.32843054, -0.43273204,  5.83434988,\n",
       "       -0.50955566, -0.50314841,  5.43122737, -0.12217738,  0.18107992,\n",
       "       -0.44692642,  0.12221332,  0.43310654,  6.0215723 ,  0.17174922,\n",
       "        0.06943011, -0.10065734,  0.30531125,  0.12500035, -0.07172343,\n",
       "       -0.41887357, -0.17205904,  0.2548626 , -0.2234401 ,  0.31806375,\n",
       "       -0.12684765,  5.46509466,  0.57390711,  6.95105615,  6.68303648,\n",
       "       -0.09193864,  1.14486055,  0.50534752,  6.46395544,  6.7227648 ,\n",
       "        6.43692009, -0.07644378,  6.13437572,  6.24386494, -0.01720888,\n",
       "       -0.06542988, -0.07026185, -0.27811699,  0.09246557,  5.4094824 ,\n",
       "       -0.0275349 ,  5.32122853,  5.21943397,  5.29793023, -0.10875498,\n",
       "       -0.07003474,  5.50539272,  5.13074131,  5.17590011,  5.58091406,\n",
       "        6.67840065,  5.30598582,  5.17026546,  5.17928042,  6.68741848,\n",
       "        6.47601763,  6.6476981 ,  6.55232521,  5.46825894,  4.99475848,\n",
       "        5.60059964,  5.02022241,  4.94916077,  4.84111132,  4.86214429,\n",
       "        5.06946891,  6.55495766,  5.5739817 ,  0.939092  ,  1.48082783,\n",
       "        5.0148506 ,  4.91366673,  4.98696679,  5.06045915,  5.35997464,\n",
       "        5.78775812,  5.2145691 , -0.03887761, -0.09906689,  0.42788374,\n",
       "        4.72922195,  4.67882611,  4.64040998,  4.53498445,  4.77374915,\n",
       "        4.57812783,  4.86892111,  4.77785382,  5.15088145,  5.50250513,\n",
       "        5.81501947,  5.14622606,  4.93285399,  1.71746731,  1.76118938,\n",
       "        1.7892765 ,  2.00594775,  1.70467773,  1.76235685,  1.84387447,\n",
       "        1.79035926,  0.0620123 ,  0.07584819,  0.03008371,  0.01154711,\n",
       "       -0.08833714])"
      ]
     },
     "execution_count": 26,
     "metadata": {},
     "output_type": "execute_result"
    }
   ],
   "source": [
    "y_predict=model.predict(dftest)\n",
    "y_predict"
   ]
  },
  {
   "cell_type": "code",
   "execution_count": 27,
   "id": "e3b054e8",
   "metadata": {},
   "outputs": [
    {
     "data": {
      "text/plain": [
       "<matplotlib.collections.PathCollection at 0x11d4d68d6a0>"
      ]
     },
     "execution_count": 27,
     "metadata": {},
     "output_type": "execute_result"
    },
    {
     "data": {
      "image/png": "[encoded data removed]",
      "text/plain": [
       "<Figure size 432x288 with 1 Axes>"
      ]
     },
     "metadata": {
      "needs_background": "light"
     },
     "output_type": "display_data"
    }
   ],
   "source": [
    "plt.scatter(df.CRIM,df.RM)"
   ]
  },
  {
   "cell_type": "code",
   "execution_count": 28,
   "id": "a68dd8f4",
   "metadata": {},
   "outputs": [
    {
     "data": {
      "text/plain": [
       "0      0.00632\n",
       "1      0.02731\n",
       "2      0.02729\n",
       "3      0.03237\n",
       "4      0.06905\n",
       "        ...   \n",
       "501    0.06263\n",
       "502    0.04527\n",
       "503    0.06076\n",
       "504    0.10959\n",
       "505    0.04741\n",
       "Name: CRIM, Length: 506, dtype: float64"
      ]
     },
     "execution_count": 28,
     "metadata": {},
     "output_type": "execute_result"
    }
   ],
   "source": [
    "df=pd.read_csv(\"./CSV/housing.csv\")\n",
    "y_actual=df.CRIM\n",
    "y_actual"
   ]
  },
  {
   "cell_type": "code",
   "execution_count": 29,
   "id": "0e74dead",
   "metadata": {},
   "outputs": [],
   "source": [
    "from sklearn.metrics import mean_absolute_error,mean_squared_error"
   ]
  },
  {
   "cell_type": "code",
   "execution_count": 30,
   "id": "adf9f9ba",
   "metadata": {},
   "outputs": [],
   "source": [
    "import numpy as np"
   ]
  },
  {
   "cell_type": "code",
   "execution_count": 31,
   "id": "d0cb7d67",
   "metadata": {},
   "outputs": [
    {
     "name": "stdout",
     "output_type": "stream",
     "text": [
      "0.8097417087611917\n",
      "1.5377535244290572\n",
      "1.2400619034665394\n"
     ]
    }
   ],
   "source": [
    "mae=mean_absolute_error(y_actual,y_predict)\n",
    "mse=mean_squared_error(y_actual,y_predict)\n",
    "rmse=np.sqrt(mse)\n",
    "print(mae)\n",
    "print(mse)\n",
    "print(rmse)"
   ]
  },
  {
   "cell_type": "code",
   "execution_count": null,
   "id": "26f381b7",
   "metadata": {},
   "outputs": [],
   "source": []
  },
  {
   "cell_type": "markdown",
   "id": "66ff46ab",
   "metadata": {},
   "source": [
    "# using Chas"
   ]
  },
  {
   "cell_type": "code",
   "execution_count": 32,
   "id": "2598248a",
   "metadata": {},
   "outputs": [
    {
     "data": {
      "text/plain": [
       "LinearRegression()"
      ]
     },
     "execution_count": 32,
     "metadata": {},
     "output_type": "execute_result"
    }
   ],
   "source": [
    "model.fit(dftest,df.CHAS)"
   ]
  },
  {
   "cell_type": "code",
   "execution_count": 33,
   "id": "0e279dab",
   "metadata": {},
   "outputs": [
    {
     "data": {
      "text/plain": [
       "0      0.00632\n",
       "1      0.00000\n",
       "2      0.00000\n",
       "3      0.00000\n",
       "4      0.00000\n",
       "        ...   \n",
       "501    0.00000\n",
       "502    0.00000\n",
       "503    0.00000\n",
       "504    0.00000\n",
       "505    0.00000\n",
       "Name: CHAS, Length: 506, dtype: float64"
      ]
     },
     "execution_count": 33,
     "metadata": {},
     "output_type": "execute_result"
    }
   ],
   "source": [
    "y_actual=df.CHAS\n",
    "y_actual"
   ]
  },
  {
   "cell_type": "code",
   "execution_count": 34,
   "id": "01eae15f",
   "metadata": {},
   "outputs": [
    {
     "data": {
      "text/plain": [
       "array([ 6.32000000e-03, -1.60509072e-14, -1.69111055e-14, -3.14006077e-14,\n",
       "       -3.17717652e-14, -3.12303019e-14, -6.98318684e-15, -8.27093657e-15,\n",
       "       -7.89661887e-15, -8.18815415e-15, -7.63025610e-15, -7.54369116e-15,\n",
       "       -6.56720695e-15, -1.12300851e-14, -1.12621940e-14, -1.09218672e-14,\n",
       "       -1.09451306e-14, -1.09676126e-14, -1.13230969e-14, -1.02784173e-14,\n",
       "       -1.06010645e-14, -1.08960756e-14, -1.05214228e-14, -1.07703411e-14,\n",
       "       -1.10478788e-14, -1.19730952e-14, -1.15903892e-14, -1.20323692e-14,\n",
       "       -1.13162412e-14, -1.12919551e-14, -1.11658010e-14, -1.08949382e-14,\n",
       "       -1.24185529e-14, -1.06475734e-14, -1.20065677e-14, -1.61280384e-14,\n",
       "       -1.64458004e-14, -1.66193946e-14, -1.67912471e-14,  9.70847582e-15,\n",
       "        9.49347838e-15, -1.69850047e-14, -1.70106949e-14, -1.68538622e-14,\n",
       "       -1.70525714e-14, -1.60826558e-14, -1.62193396e-14, -1.73074898e-14,\n",
       "       -1.76955599e-14, -1.76534388e-14, -1.09926900e-14, -1.11891258e-14,\n",
       "       -1.09389605e-14, -1.09122739e-14,  1.51657305e-14,  8.07377849e-15,\n",
       "        5.99443557e-15,  1.43459366e-14, -1.05184949e-14, -9.42200172e-15,\n",
       "       -1.00143145e-14, -9.85596175e-15, -1.01263663e-14, -1.09708414e-14,\n",
       "       -2.86994871e-14,  1.43953507e-14,  1.44441766e-14, -1.15068990e-14,\n",
       "       -1.13957445e-14, -1.15506972e-14, -4.35949479e-15, -4.45284407e-15,\n",
       "       -4.16451437e-15, -4.39346963e-15,  4.23111454e-15,  3.55119303e-15,\n",
       "        3.63898073e-15,  4.05077391e-15,  2.86153211e-15,  3.86519963e-15,\n",
       "       -9.17779400e-15, -9.30923992e-15, -8.93796621e-15, -9.04111710e-15,\n",
       "       -2.25544667e-14, -2.24896332e-14, -2.21215363e-14, -2.13900741e-14,\n",
       "       -2.39166997e-14, -2.41095303e-14, -2.34056771e-14, -2.34145962e-14,\n",
       "        2.17766422e-14,  2.19164143e-14,  2.17118149e-14, -2.58997994e-14,\n",
       "       -2.51371348e-14, -2.64149755e-14, -2.64665571e-14, -2.58501747e-14,\n",
       "       -7.27994442e-15, -7.11695736e-15, -1.03877907e-14, -6.69118878e-15,\n",
       "       -6.46765984e-15, -6.25276645e-15, -6.34027995e-15, -6.21288739e-15,\n",
       "       -6.47789468e-15, -6.63702126e-15, -6.58349549e-15, -1.87801418e-15,\n",
       "       -1.50470649e-15, -1.71870702e-15, -1.18129829e-15, -2.10997921e-15,\n",
       "       -1.79808060e-15, -1.71450909e-15, -2.21042014e-15, -1.66480629e-15,\n",
       "        3.61658512e-14,  3.60937435e-14,  3.60108561e-14,  3.61442103e-14,\n",
       "        3.62371043e-14,  3.62394613e-14,  3.63186185e-14,  3.15176789e-14,\n",
       "        3.14568766e-14,  3.15248424e-14,  3.10514926e-14,  3.08792651e-14,\n",
       "        3.03976216e-14,  3.05929647e-14,  2.93880289e-14,  3.10571498e-14,\n",
       "        3.11044710e-14,  3.14899478e-14,  3.18126310e-14,  3.15497999e-14,\n",
       "        3.17839538e-14,  3.16308171e-14,  1.00000000e+00,  2.47194600e-14,\n",
       "        2.50527949e-14,  2.22280136e-14,  2.21132552e-14,  2.46282013e-14,\n",
       "        2.39156982e-14,  2.42574576e-14,  2.40271983e-14,  2.37779882e-14,\n",
       "        1.00000000e+00,  2.27990443e-14,  1.00000000e+00,  1.00000000e+00,\n",
       "        2.11883143e-14,  2.22291929e-14,  2.36623264e-14,  2.37499816e-14,\n",
       "        1.00000000e+00,  2.16483364e-14,  1.00000000e+00,  1.00000000e+00,\n",
       "        2.35363780e-14,  2.16715842e-14,  2.14367280e-14,  2.15684664e-14,\n",
       "        2.26189247e-14,  2.29867261e-14,  2.26973036e-14,  2.32708882e-14,\n",
       "       -2.09512034e-14, -2.08130568e-14, -2.06893101e-14, -2.12308876e-14,\n",
       "       -2.14190097e-14, -2.14607118e-14, -2.15359300e-14, -2.81928357e-14,\n",
       "       -2.86339520e-14, -2.80675844e-14, -2.85332915e-14, -2.82768330e-14,\n",
       "       -2.81428391e-14, -2.84844471e-14, -2.96821287e-14,  4.11406436e-16,\n",
       "       -2.01451311e-16, -5.81587362e-16, -2.91145696e-15, -2.28954999e-15,\n",
       "       -2.68976575e-15,  1.54812796e-15,  1.42310340e-15,  3.47635586e-15,\n",
       "        7.32637918e-15,  6.94632819e-15,  7.04223180e-15,  1.57772567e-14,\n",
       "        1.58449736e-14,  1.20475559e-14,  1.08888541e-14,  1.70344488e-14,\n",
       "        1.69223021e-14, -4.09075298e-15, -5.05406858e-15, -5.39338365e-15,\n",
       "        1.00000000e+00,  1.00000000e+00,  1.00000000e+00,  1.00000000e+00,\n",
       "        1.00000000e+00, -4.77281243e-15, -4.68355200e-15, -4.53390749e-15,\n",
       "        1.00000000e+00,  4.17703768e-15,  1.00000000e+00,  1.00000000e+00,\n",
       "        1.00000000e+00,  1.00000000e+00,  1.00000000e+00, -1.57752969e-14,\n",
       "       -1.65985549e-14, -1.71396733e-14, -1.63554653e-14, -1.60586066e-14,\n",
       "       -1.67064230e-14, -1.54237612e-14, -1.58956119e-14, -1.64358907e-14,\n",
       "       -1.72361836e-14, -1.77302269e-14,  1.00000000e+00, -1.57613454e-14,\n",
       "        1.00000000e+00, -1.67052102e-14, -6.59756104e-15, -6.80298164e-15,\n",
       "       -6.96133991e-15, -6.97155066e-15, -7.99793462e-15, -7.43571621e-15,\n",
       "       -9.76820399e-15, -9.70826514e-15, -9.66546993e-15, -1.00242054e-14,\n",
       "       -9.76573477e-15, -9.22459792e-15, -8.50923867e-15, -8.68001360e-15,\n",
       "       -1.05976631e-14, -1.15856156e-14,  1.15653621e-14,  1.17584107e-14,\n",
       "        1.67824043e-14, -1.31239641e-14, -1.23541926e-14, -1.18593141e-14,\n",
       "       -1.21103181e-14, -1.30616521e-14, -1.36830000e-14, -1.19855407e-14,\n",
       "       -1.23023068e-14, -1.09054875e-14, -1.21181999e-14, -1.36799245e-14,\n",
       "       -1.33141651e-14,  1.00000000e+00, -5.88963168e-15, -5.68242387e-15,\n",
       "       -5.57590560e-15,  1.00000000e+00,  1.00000000e+00,  2.77038128e-15,\n",
       "        1.00000000e+00,  1.00000000e+00,  3.17742174e-15, -1.62468180e-14,\n",
       "       -1.82331293e-14, -1.76254138e-14,  1.00000000e+00,  1.00000000e+00,\n",
       "        1.54861992e-14, -2.80880113e-15,  4.61493924e-15,  4.33129281e-15,\n",
       "        4.24270950e-15,  3.96301899e-15,  1.80718954e-14,  1.72837167e-14,\n",
       "        1.81293491e-14,  3.49809288e-15,  3.36366028e-15,  2.51236884e-15,\n",
       "        2.32733545e-15,  2.26685337e-15,  5.19162030e-15,  4.82199237e-15,\n",
       "        4.94728404e-15, -5.74644430e-17, -3.35631419e-16, -7.34174522e-16,\n",
       "       -1.28570663e-14, -1.17400915e-14, -1.18982520e-14, -1.15671567e-14,\n",
       "       -5.31776302e-15, -4.97154973e-15, -4.17787864e-15, -4.23389535e-15,\n",
       "       -4.79136640e-15, -5.30135774e-15, -5.90619862e-15, -5.58624383e-15,\n",
       "       -6.05965313e-15, -6.02766583e-15, -5.57127282e-15, -5.85739208e-15,\n",
       "       -1.35637233e-14, -1.35203406e-14, -1.34661913e-14, -1.37725157e-14,\n",
       "       -1.37036958e-14, -1.41391411e-14, -1.41577189e-14, -1.44298739e-14,\n",
       "       -2.24110365e-14, -2.25977187e-14, -2.33778481e-14, -1.26129699e-15,\n",
       "       -1.66026246e-15, -2.25887373e-14, -2.24832032e-14, -2.19165338e-14,\n",
       "       -2.11378291e-14, -2.16655359e-14, -2.06348138e-14, -2.06092314e-14,\n",
       "       -2.07298908e-14, -1.58217758e-14, -2.75461166e-14,  4.19819392e-15,\n",
       "        3.02545580e-15, -2.39541999e-14, -2.42818999e-14,  1.69984509e-14,\n",
       "        7.38123299e-15, -1.43425123e-14, -1.40786495e-14, -3.74433534e-15,\n",
       "       -2.88602673e-15,  5.86669907e-15,  6.17000302e-15,  5.97675257e-15,\n",
       "        1.00000000e+00,  1.00000000e+00,  1.00000000e+00,  2.54779116e-14,\n",
       "        2.51076626e-14,  2.53434713e-14,  2.57776839e-14,  1.00000000e+00,\n",
       "        1.00000000e+00,  2.54145422e-14,  2.52500856e-14,  6.31000000e-01,\n",
       "        2.40122301e-14,  1.00000000e+00,  1.00000000e+00,  2.40546945e-14,\n",
       "        1.00000000e+00,  6.68000000e-01,  6.68000000e-01,  6.71000000e-01,\n",
       "        6.71000000e-01,  2.73873400e-14,  6.71000000e-01,  6.71000000e-01,\n",
       "        6.71000000e-01,  6.71000000e-01,  2.71298729e-14,  2.70666832e-14,\n",
       "        7.00000000e-01,  7.00000000e-01,  7.00000000e-01,  7.00000000e-01,\n",
       "        7.00000000e-01,  2.70102482e-14,  2.65665539e-14,  2.55303979e-14,\n",
       "        7.00000000e-01,  2.70082183e-14,  6.93000000e-01,  2.69938298e-14,\n",
       "        2.71390774e-14,  2.74027276e-14,  6.93000000e-01,  2.71329434e-14,\n",
       "        6.93000000e-01,  6.93000000e-01,  2.68998531e-14,  6.93000000e-01,\n",
       "        6.93000000e-01,  6.93000000e-01,  6.59000000e-01,  6.59000000e-01,\n",
       "        2.57635894e-14,  5.97000000e-01,  5.97000000e-01,  5.97000000e-01,\n",
       "        5.97000000e-01,  5.97000000e-01,  6.93000000e-01,  6.79000000e-01,\n",
       "        6.79000000e-01,  6.79000000e-01,  6.79000000e-01,  7.18000000e-01,\n",
       "        7.18000000e-01,  2.58851096e-14,  6.14000000e-01,  2.20159785e-14,\n",
       "        2.24166768e-14,  6.79000000e-01,  5.84000000e-01,  6.79000000e-01,\n",
       "        2.35564993e-14,  2.29791191e-14,  2.30008450e-14,  5.84000000e-01,\n",
       "        2.31317828e-14,  2.28814306e-14,  7.13000000e-01,  7.40000000e-01,\n",
       "        7.40000000e-01,  7.40000000e-01,  7.40000000e-01,  2.68080827e-14,\n",
       "        7.40000000e-01,  2.61154659e-14,  2.61925624e-14,  2.63653330e-14,\n",
       "        7.40000000e-01,  7.40000000e-01,  2.55400056e-14,  2.64768617e-14,\n",
       "        2.63142684e-14,  2.53907865e-14,  2.17065135e-14,  2.56704318e-14,\n",
       "        2.59835108e-14,  2.56466182e-14,  2.14067773e-14,  2.21612001e-14,\n",
       "        2.15607494e-14,  2.13188335e-14,  2.44089116e-14,  2.55075391e-14,\n",
       "        2.42282583e-14,  2.57997473e-14,  2.55894148e-14,  2.54320401e-14,\n",
       "        2.54110434e-14,  2.48327168e-14,  2.09060970e-14,  2.47923051e-14,\n",
       "        5.80000000e-01,  5.80000000e-01,  2.52171293e-14,  2.51804768e-14,\n",
       "        2.51961906e-14,  2.49435042e-14,  2.56641794e-14,  2.52710106e-14,\n",
       "        2.61463937e-14,  6.14000000e-01,  6.14000000e-01,  6.14000000e-01,\n",
       "        2.48888133e-14,  2.48713789e-14,  2.47110553e-14,  2.44671245e-14,\n",
       "        2.46222947e-14,  2.44695601e-14,  2.47510230e-14,  2.53688353e-14,\n",
       "        5.27899588e-14,  5.28055312e-14,  5.21707666e-14,  5.28016974e-14,\n",
       "        5.23060372e-14, -2.92048379e-15, -3.04813158e-15, -3.36727906e-15,\n",
       "       -3.64276037e-15, -3.39547691e-15, -3.02194573e-15, -2.87210002e-15,\n",
       "       -2.91675239e-15,  3.92338070e-16,  7.05452333e-16,  5.16913624e-16,\n",
       "        3.92873602e-16,  1.23878488e-15])"
      ]
     },
     "execution_count": 34,
     "metadata": {},
     "output_type": "execute_result"
    }
   ],
   "source": [
    "y_predict=model.predict(dftest)\n",
    "y_predict"
   ]
  },
  {
   "cell_type": "code",
   "execution_count": 35,
   "id": "2113d7f7",
   "metadata": {},
   "outputs": [
    {
     "data": {
      "text/plain": [
       "<matplotlib.collections.PathCollection at 0x11d4df91df0>"
      ]
     },
     "execution_count": 35,
     "metadata": {},
     "output_type": "execute_result"
    },
    {
     "data": {
      "image/png": "[encoded data removed]",
      "text/plain": [
       "<Figure size 432x288 with 1 Axes>"
      ]
     },
     "metadata": {
      "needs_background": "light"
     },
     "output_type": "display_data"
    }
   ],
   "source": [
    "plt.scatter(df.CHAS,df.RM)"
   ]
  },
  {
   "cell_type": "code",
   "execution_count": 36,
   "id": "775298ae",
   "metadata": {},
   "outputs": [
    {
     "data": {
      "text/plain": [
       "0      0.00632\n",
       "1      0.00000\n",
       "2      0.00000\n",
       "3      0.00000\n",
       "4      0.00000\n",
       "        ...   \n",
       "501    0.00000\n",
       "502    0.00000\n",
       "503    0.00000\n",
       "504    0.00000\n",
       "505    0.00000\n",
       "Name: CHAS, Length: 506, dtype: float64"
      ]
     },
     "execution_count": 36,
     "metadata": {},
     "output_type": "execute_result"
    }
   ],
   "source": [
    "df=pd.read_csv(\"./CSV/housing.csv\")\n",
    "y_actual=df.CHAS\n",
    "y_actual"
   ]
  },
  {
   "cell_type": "code",
   "execution_count": 37,
   "id": "fbdb53e6",
   "metadata": {},
   "outputs": [
    {
     "name": "stdout",
     "output_type": "stream",
     "text": [
      "1.6114043842330473e-14\n",
      "3.5005030467951124e-28\n",
      "1.8709631334676568e-14\n"
     ]
    }
   ],
   "source": [
    "mae=mean_absolute_error(y_actual,y_predict)\n",
    "mse=mean_squared_error(y_actual,y_predict)\n",
    "rmse=np.sqrt(mse)\n",
    "print(mae)\n",
    "print(mse)\n",
    "print(rmse)"
   ]
  },
  {
   "cell_type": "code",
   "execution_count": null,
   "id": "eeb1d0b5",
   "metadata": {},
   "outputs": [],
   "source": []
  },
  {
   "cell_type": "code",
   "execution_count": null,
   "id": "a73d287f",
   "metadata": {},
   "outputs": [],
   "source": []
  },
  {
   "cell_type": "code",
   "execution_count": null,
   "id": "dd4b89b7",
   "metadata": {},
   "outputs": [],
   "source": []
  }
 ],
 "metadata": {
  "kernelspec": {
   "display_name": "Python 3 (ipykernel)",
   "language": "python",
   "name": "python3"
  },
  "language_info": {
   "codemirror_mode": {
    "name": "ipython",
    "version": 3
   },
   "file_extension": ".py",
   "mimetype": "text/x-python",
   "name": "python",
   "nbconvert_exporter": "python",
   "pygments_lexer": "ipython3",
   "version": "3.9.7"
  }
 },
 "nbformat": 4,
 "nbformat_minor": 5
}
